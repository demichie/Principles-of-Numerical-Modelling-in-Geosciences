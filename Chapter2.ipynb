{
  "nbformat": 4,
  "nbformat_minor": 0,
  "metadata": {
    "colab": {
      "provenance": [],
      "authorship_tag": "ABX9TyNQJLHniin/Pa5PHdQv+ior",
      "include_colab_link": true
    },
    "kernelspec": {
      "name": "python3",
      "display_name": "Python 3"
    },
    "language_info": {
      "name": "python"
    }
  },
  "cells": [
    {
      "cell_type": "markdown",
      "metadata": {
        "id": "view-in-github",
        "colab_type": "text"
      },
      "source": [
        "<a href=\"https://colab.research.google.com/github/demichie/Principles-of-Numerical-Modelling-in-Geosciences/blob/main/Chapter2.ipynb\" target=\"_parent\"><img src=\"https://colab.research.google.com/assets/colab-badge.svg\" alt=\"Open In Colab\"/></a>"
      ]
    },
    {
      "cell_type": "markdown",
      "source": [
        "# Chapter 2: Differential Equations in Geosciences and Python Essentials\n",
        "\n",
        "This chapter serves as an introduction to the fundamental role of differential equations in describing Earth science phenomena and lays the groundwork for using Python as a computational tool for their numerical solution. We begin by exploring why differential equations are so prevalent in geosciences, illustrating with examples such as cooling processes and radioactive decay. Subsequently, we introduce the Python programming language, covering basic syntax, essential data structures like lists, and the powerful libraries NumPy and Matplotlib, which are indispensable for scientific computing and visualization."
      ],
      "metadata": {
        "id": "bupebU4IHCZL"
      }
    },
    {
      "cell_type": "markdown",
      "source": [
        "## 2.1 The Language of Change: Differential Equations in Earth Sciences\n",
        "\n",
        "Many of the processes that shape our planet and its environment involve quantities that change over time and/or space. Consider the transfer of heat within the Earth's interior, the flow of water in rivers and aquifers, the propagation of seismic waves during an earthquake, or the evolving concentration of a chemical species in a magmatic system. These dynamic phenomena are governed by fundamental physical laws, often expressed as laws of conservation (e.g., conservation of mass, momentum, and energy). When these physical laws are translated into precise mathematical statements, they frequently take the form of **differential equations**.\n",
        "\n",
        "A differential equation is a mathematical equation that relates some quantity described by a function (e.g. the temperature $T(x,t)$ or the density $\\rho(x,t)$) with its derivatives. In essence, derivatives represent rates of change. Therefore, differential equations describe how quantities, and the rates at which they change, are interrelated. Understanding these equations allows Earth scientists to:\n",
        "*   Quantify the relationships between different physical variables.\n",
        "*   Simulate the behavior of complex natural systems under various conditions.\n",
        "*   Predict future states of these systems.\n",
        "*   Gain deeper insights into the underlying mechanisms driving geological and environmental processes.\n",
        "\n",
        "Most geophysical processes can be described using either *ordinary differential equations* (ODEs), where the unknown function depends on a single independent variable (typically time), or *partial differential equations* (PDEs), where the unknown function depends on multiple independent variables (such as time and one or more spatial coordinates)."
      ],
      "metadata": {
        "id": "ZQNj_UswHEDJ"
      }
    },
    {
      "cell_type": "markdown",
      "source": [
        "### 2.1.1 Example: Cooling Processes and Newton's Law\n",
        "\n",
        "Cooling is a ubiquitous process in Earth sciences, from lava flows to the secular cooling of the Earth's lithosphere. Sir Isaac Newton proposed that the rate at which an object cools is proportional to the temperature difference between the object and its surroundings.\n",
        "\n",
        "Let $T(t)$ be the temperature of an object at time $t$, and let $T_{\\text{env}}$ be the constant temperature of the surrounding environment. Let $k$ be a positive cooling coefficient.\n",
        "\n",
        "Over a small time interval $\\Delta t$, the change in temperature, $\\Delta T$, is:\n",
        "$$\n",
        "\\Delta T = -k (T(t) - T_{\\text{env}}) \\Delta t\n",
        "$$\n",
        "\n",
        "Rearranging this gives an expression for the average rate of temperature change, a **finite difference** approximation:\n",
        "$$\n",
        "\\frac{T(t+\\Delta t) - T(t)}{\\Delta t} = -k (T(t) - T_{\\text{env}})\n",
        "$$\n",
        "\n",
        "To move to a continuous model, we take the limit as $\\Delta t \\to 0$. The left-hand side becomes the definition of the derivative:\n",
        "$$\n",
        "\\frac{dT}{dt} = \\lim_{\\Delta t \\to 0} \\frac{T(t+\\Delta t) - T(t)}{\\Delta t}\n",
        "$$\n",
        "\n",
        "This gives us Newton's Law of Cooling in its differential form, a **first-order linear ordinary differential equation (ODE)**:\n",
        "$$\n",
        "\\frac{dT}{dt} = -k (T(t) - T_{\\text{env}})\n",
        "$$\n",
        "This is a *lumped-parameter model*, assuming the temperature $T$ is uniform throughout the object at any given time $t$."
      ],
      "metadata": {
        "id": "zxEF8vibHIMA"
      }
    },
    {
      "cell_type": "markdown",
      "source": [
        "### 2.1.2 Example: Radioactive Decay\n",
        "\n",
        "Radioactive decay is another fundamental process described by a simple ODE, and it is the cornerstone of **radiometric dating**.\n",
        "\n",
        "We model the evolution of $N(t)$, the number of atoms of the parent isotope at time $t$. The rate of decay is proportional to the number of radioactive atoms currently present. We define the **decay constant**, $\\lambda$, as the intrinsic probability per unit time that any single atom will decay. This leads to the differential equation for radioactive decay:\n",
        "$$\n",
        "\\frac{dN(t)}{dt} = -\\lambda N(t)\n",
        "$$\n",
        "This is also a first-order linear ODE. Given an initial number of atoms $N(0) = N_0$, its analytical solution is the familiar exponential decay model:\n",
        "$$\n",
        "N(t) = N_0 e^{-\\lambda t}\n",
        "$$"
      ],
      "metadata": {
        "id": "I2J-xw8-HKs8"
      }
    },
    {
      "cell_type": "markdown",
      "source": [
        "### 2.1.3 Ordinary vs. Partial Differential Equations: A First Look\n",
        "\n",
        "The two examples we've discussed are both **Ordinary Differential Equations (ODEs)**, involving derivatives with respect to a *single independent variable* (time, $t$).\n",
        "\n",
        "However, many geoscience phenomena depend on *multiple independent variables* (e.g., time and space). These are described by **Partial Differential Equations (PDEs)**. For example, the temperature $T$ in a large lava flow varies with both depth $x$ and time $t$, so we write $T(x,t)$. A simplified 1D model for this is the heat equation:\n",
        "$$\n",
        "\\frac{\\partial T}{\\partial t} = \\kappa \\frac{\\partial^2 T}{\\partial x^2}\n",
        "$$\n",
        "Here, $\\frac{\\partial T}{\\partial t}$ is a partial derivative with respect to time, and $\\frac{\\partial^2 T}{\\partial x^2}$ is a partial second derivative with respect to space."
      ],
      "metadata": {
        "id": "D1JtKKKRHO9m"
      }
    },
    {
      "cell_type": "markdown",
      "source": [
        "<div class=\"alert alert-block alert-info\">\n",
        "    <b>Concept Check!</b>\n",
        "    <br>\n",
        "    <ul>\n",
        "        <li>Can you think of a geoscience process where something changes over time or space? What changes, and what causes the change?</li>\n",
        "    </ul>\n",
        "</div>"
      ],
      "metadata": {
        "id": "nrQd7TJjHRH2"
      }
    },
    {
      "cell_type": "markdown",
      "source": [
        "### 2.1.4 Characterizing Differential Equations: Order and Linearity\n",
        "\n",
        "#### Order of a Differential Equation\n",
        "The **order** of a differential equation is the **highest-order derivative** present.\n",
        "*   **First-Order:** Radioactive decay, $\\frac{dN}{dt} = -\\lambda N$. The highest derivative is first-order.\n",
        "*   **Second-Order:** The 1D heat equation, $\\frac{\\partial T}{\\partial t} = \\kappa \\frac{\\partial^2 T}{\\partial x^2}$. The highest derivative is second-order.\n",
        "\n",
        "#### Linearity and Nonlinearity\n",
        "A differential equation is **linear** if the unknown function (e.g., $T$) and all of its derivatives appear linearly (i.e., not multiplied by each other, not raised to powers other than 1, not arguments of functions like `sin(T)`).\n",
        "*   **Linear Example:** The heat equation $\\frac{\\partial T}{\\partial t} = \\kappa \\frac{\\partial^2 T}{\\partial x^2}$ is linear.\n",
        "*   **Nonlinear Example:** If thermal conductivity depends on temperature, $\\kappa(T)$, the equation becomes $\\frac{\\partial T}{\\partial t} = \\frac{\\partial}{\\partial x}\\left(\\kappa(T) \\frac{\\partial T}{\\partial x}\\right)$, which is nonlinear.\n",
        "\n",
        "Nonlinear equations are much harder to solve analytically and often exhibit more complex behavior."
      ],
      "metadata": {
        "id": "NSSN1CiuHTHd"
      }
    },
    {
      "cell_type": "markdown",
      "source": [
        "## 2.2 Introduction to Python for Numerical Modelling\n",
        "\n",
        "We will use **Python** for our numerical work. It's a versatile, high-level language popular in science for its readability and extensive ecosystem of libraries.\n",
        "\n",
        "### 2.2.1 Why Python for Scientific Computing?\n",
        "*   **Readability and Simplicity:** Clean, intuitive syntax.\n",
        "*   **Extensive Scientific Libraries:**\n",
        "    *   **NumPy:** For powerful array objects and numerical operations.\n",
        "    *   **SciPy:** For scientific algorithms (integration, optimization, etc.).\n",
        "    *   **Matplotlib:** For comprehensive data visualization.\n",
        "*   **Large and Active Community:** Abundant online resources and help.\n",
        "*   **Open Source and Free:** Accessible to everyone.\n",
        "\n",
        "### 2.2.2 Jupyter Notebooks: An Interactive Coding Environment\n",
        "We will use **Jupyter Notebooks**, which allow us to combine live code, equations, text, and visualizations in a single document. This is ideal for exploratory analysis, documentation, and sharing reproducible work."
      ],
      "metadata": {
        "id": "WalckU9lHVm1"
      }
    },
    {
      "cell_type": "markdown",
      "source": [
        "### 2.2.3 Python Syntax Basics\n",
        "\n",
        "#### Variables and Assignment\n",
        "Python is **dynamically typed**, meaning you don't need to declare a variable's type. It's inferred at assignment."
      ],
      "metadata": {
        "id": "f42U8QAYHXgu"
      }
    },
    {
      "cell_type": "code",
      "source": [
        "# Variable assignment in Python\n",
        "x = 3.0           # x is now a floating-point number (float)\n",
        "name = \"basalt\"   # name is now a string (str)\n",
        "is_volcano = True # is_volcano is now a boolean (bool)\n",
        "count = 10        # count is now an integer (int)\n",
        "\n",
        "# You can print the value and type of a variable\n",
        "print(x, type(x))\n",
        "print(name, type(name))"
      ],
      "metadata": {
        "id": "i662M5xPHZWK"
      },
      "execution_count": null,
      "outputs": []
    },
    {
      "cell_type": "markdown",
      "source": [
        "#### Indentation\n",
        "Python uses **indentation** (typically 4 spaces) to define code blocks, instead of curly braces. This is a strict part of the syntax."
      ],
      "metadata": {
        "id": "v6Wm4MZAHbOE"
      }
    },
    {
      "cell_type": "code",
      "source": [
        "# Python indentation example\n",
        "for i in range(3):  # The colon indicates the start of a block\n",
        "    print(\"Outer loop, i =\", i) # This line is indented, part of the for loop\n",
        "    if i % 2 == 0: # Another block starts here\n",
        "        print(\"   i is even\") # Further indented, part of the if block\n",
        "    else:\n",
        "        print(\"   i is odd\")  # Also part of the else block\n",
        "print(\"Loop finished\") # This line is not indented, so it's outside the for loop"
      ],
      "metadata": {
        "id": "4DydOnWiHdYe"
      },
      "execution_count": null,
      "outputs": []
    },
    {
      "cell_type": "markdown",
      "source": [
        "#### Comments\n",
        "Single-line comments start with `#`. Multi-line comments or docstrings are enclosed in triple quotes `\"\"\"...\"\"\"`."
      ],
      "metadata": {
        "id": "XGMrC_NGHfUN"
      }
    },
    {
      "cell_type": "code",
      "source": [
        "# This is a single-line comment explaining the next line\n",
        "gravity_g = 9.81  # m/s^2, standard gravity\n",
        "\n",
        "\"\"\"\n",
        "This is a\n",
        "multi-line comment using triple quotes.\n",
        "It can span several lines.\n",
        "\"\"\"\n",
        "\n",
        "def calculate_area(radius):\n",
        "    \"\"\"This is a docstring. It explains what the function does.\"\"\"\n",
        "    return 3.14159 * radius**2\n",
        "\n",
        "# Let's call the function to see it work\n",
        "print(f\"Area of circle with radius 2: {calculate_area(2)}\")"
      ],
      "metadata": {
        "id": "qr-uwrrCHhGh"
      },
      "execution_count": null,
      "outputs": []
    },
    {
      "cell_type": "markdown",
      "source": [
        "#### Line Length and Line Continuation\n",
        "For readability, lines are often limited to ~79 characters. Python allows line breaks inside parentheses `()`, brackets `[]`, and braces `{}` (implicit continuation, preferred) or using a backslash `\\` (explicit continuation)."
      ],
      "metadata": {
        "id": "2usGJ7x6Hi6Z"
      }
    },
    {
      "cell_type": "code",
      "source": [
        "# Implicit line continuation (preferred)\n",
        "my_long_list = [\n",
        "    1, 2, 3, 4, 5, 6, 7, 8, 9, 10, 11, 12, 13, 14, 15,\n",
        "    16, 17, 18, 19, 20,\n",
        "    ]\n",
        "\n",
        "# Explicit line continuation\n",
        "x = 1 + 2 + 3 + \\\n",
        "    4 + 5 + 6 + \\\n",
        "    7 + 8 + 9\n",
        "print(x)"
      ],
      "metadata": {
        "id": "dRi_SrcpHk2O"
      },
      "execution_count": null,
      "outputs": []
    },
    {
      "cell_type": "markdown",
      "source": [
        "#### Defining Reusable Blocks of Code: Functions\n",
        "Functions are defined with the `def` keyword. They promote reusability and modularity."
      ],
      "metadata": {
        "id": "Vh9wqvh_Hm2O"
      }
    },
    {
      "cell_type": "code",
      "source": [
        "# Defining and calling simple Python functions\n",
        "\n",
        "# Define a function to calculate the area of a circle\n",
        "def calculateCircleArea(radius):\n",
        "    \"\"\"Calculates the area of a circle given its radius.\"\"\"\n",
        "    piApprox = 3.14159\n",
        "    area = piApprox * radius**2\n",
        "    return area\n",
        "\n",
        "# Call the function with an argument\n",
        "radiusOne = 5.0\n",
        "areaOne = calculateCircleArea(radiusOne)\n",
        "# Using an f-string for formatted output\n",
        "print(f\"The area of a circle with radius {radiusOne} is {areaOne}\")\n",
        "\n",
        "# Example of a function without a specific return value (implicitly returns None)\n",
        "def greet(name):\n",
        "    \"\"\"Prints a greeting message.\"\"\"\n",
        "    print(f\"Hello, {name}!\")\n",
        "\n",
        "greet(\"World\")\n",
        "returnedValue = greet(\"Student\") # greet() is called, message printed\n",
        "print(f\"Value returned by greet(): {returnedValue}\") # Will print: None"
      ],
      "metadata": {
        "id": "zoQdFiPFHopk"
      },
      "execution_count": null,
      "outputs": []
    },
    {
      "cell_type": "markdown",
      "source": [
        "## 2.3 Fundamental Python Data Structures: Lists\n",
        "\n",
        "A Python **list** is an ordered, mutable (changeable) collection of items, created with square brackets `[]`.\n",
        "\n",
        "#### 2.3.1 Creating Lists"
      ],
      "metadata": {
        "id": "wteKeFQ5Hqji"
      }
    },
    {
      "cell_type": "code",
      "source": [
        "# A list of floating-point numbers (temperatures)\n",
        "temperatures = [15.5, 16.1, 15.8, 17.0]\n",
        "print(temperatures)\n",
        "\n",
        "# A list containing mixed data types\n",
        "mixed_data = [10, \"andesite\", 25.3, True]\n",
        "print(mixed_data)"
      ],
      "metadata": {
        "id": "cN_YaSkPHszN"
      },
      "execution_count": null,
      "outputs": []
    },
    {
      "cell_type": "markdown",
      "source": [
        "#### 2.3.2 Accessing List Elements: Indexing\n",
        "Python uses **0-based indexing**. The first element is at index `0`. Negative indices access elements from the end of the list (`-1` is the last element)."
      ],
      "metadata": {
        "id": "PU-vD-rqHuiJ"
      }
    },
    {
      "cell_type": "code",
      "source": [
        "# Accessing list elements using positive and negative indices\n",
        "rock_samples = [\"granite\", \"basalt\", \"shale\", \"sandstone\", \"limestone\"]\n",
        "print(\"Original list:\", rock_samples)\n",
        "\n",
        "# Accessing the first element (index 0)\n",
        "print(\"First sample (index 0):\", rock_samples[0])\n",
        "\n",
        "# Accessing the last element (index -1)\n",
        "print(\"Last sample (index -1):\", rock_samples[-1])"
      ],
      "metadata": {
        "id": "FU5YnX_FHwdb"
      },
      "execution_count": null,
      "outputs": []
    },
    {
      "cell_type": "markdown",
      "source": [
        "#### 2.3.3 Extracting Sub-Lists: Slicing\n",
        "Slicing `list[start:stop:step]` extracts a new list. The `stop` index is not included."
      ],
      "metadata": {
        "id": "LmFvX0d_HyJy"
      }
    },
    {
      "cell_type": "code",
      "source": [
        "measurements = [10.1, 12.5, 11.3, 13.0, 12.8, 10.9, 11.5, 14.2]\n",
        "print(\"Original measurements:\", measurements)\n",
        "\n",
        "# Get elements from index 1 up to (but not including) index 4\n",
        "print(\"measurements[1:4]:\", measurements[1:4])\n",
        "\n",
        "# Get every second element from the beginning to the end\n",
        "print(\"measurements[::2]:\", measurements[::2])\n",
        "\n",
        "# A common idiom to reverse a list\n",
        "print(\"measurements[::-1]:\", measurements[::-1])"
      ],
      "metadata": {
        "id": "NKevCObSHzri"
      },
      "execution_count": null,
      "outputs": []
    },
    {
      "cell_type": "markdown",
      "source": [
        "#### 2.3.4 Mutability: Lists Can Be Changed\n",
        "Lists are **mutable**, so their contents can be modified in-place."
      ],
      "metadata": {
        "id": "C79VYJ-aH1VL"
      }
    },
    {
      "cell_type": "code",
      "source": [
        "rock_types = [\"basalt\", \"granite\", \"shale\"]\n",
        "print(\"Initial rock_types:\", rock_types)\n",
        "\n",
        "# Change an element at a specific index\n",
        "rock_types[1] = \"rhyolite\"\n",
        "print(\"After changing index 1:\", rock_types)\n",
        "\n",
        "# Add an element to the end of the list\n",
        "rock_types.append(\"marble\")\n",
        "print(\"After appending 'marble':\", rock_types)"
      ],
      "metadata": {
        "id": "KzK97Sy-H3nH"
      },
      "execution_count": null,
      "outputs": []
    },
    {
      "cell_type": "markdown",
      "source": [
        "#### 2.3.5 Variables, References, and Copying Lists\n",
        "Assigning a list to a variable creates a **reference**, not a copy. Both variables point to the same list object in memory. To create an independent copy, you must do so explicitly."
      ],
      "metadata": {
        "id": "yU6fUN7OH5Sr"
      }
    },
    {
      "cell_type": "code",
      "source": [
        "# Assignment creates a reference\n",
        "list_a = [10, 20, 30]\n",
        "list_b = list_a  # list_b now refers to the SAME list object\n",
        "\n",
        "list_b[0] = 99\n",
        "print(\"After modifying list_b, list_a is also changed:\")\n",
        "print(\"list_a:\", list_a)\n",
        "print(\"list_b:\", list_b)\n",
        "\n",
        "# To create a true copy, use the copy() method or slicing [:]\n",
        "original_list = [1, 2, 3]\n",
        "copied_list = original_list.copy()\n",
        "\n",
        "copied_list[0] = 100\n",
        "print(\"\\nAfter creating a copy and modifying it:\")\n",
        "print(\"Original list (unchanged):\", original_list)\n",
        "print(\"Copied list:\", copied_list)"
      ],
      "metadata": {
        "id": "0gmcRXEkH7LQ"
      },
      "execution_count": null,
      "outputs": []
    },
    {
      "cell_type": "markdown",
      "source": [
        "<div class=\"alert alert-block alert-info\">\n",
        "    <b>Concept Check!</b>\n",
        "    <br>\n",
        "    <ul>\n",
        "        <li>Why is it useful to work with lists or arrays instead of many separate variables?</li>\n",
        "    </ul>\n",
        "</div>"
      ],
      "metadata": {
        "id": "rJ-Rxm-mJ8ta"
      }
    },
    {
      "cell_type": "markdown",
      "source": [
        "## 2.4 Repeating Actions: Loops and the `range()` Function\n",
        "\n",
        "The `for` loop iterates over items in a sequence. The `range()` function generates a sequence of numbers, which is very useful for looping a specific number of times."
      ],
      "metadata": {
        "id": "nAOwxKL-J-vF"
      }
    },
    {
      "cell_type": "code",
      "source": [
        "# Iterating over a list with a for loop\n",
        "rock_types = [\"basalt\", \"granite\", \"shale\"]\n",
        "for rock in rock_types:\n",
        "    print(f\"Current rock type: {rock}\")\n",
        "\n",
        "print(\"-\" * 20)\n",
        "\n",
        "# Using the range() function to loop 5 times (0 to 4)\n",
        "print(\"Looping with range(5):\")\n",
        "for i in range(5):\n",
        "    print(i)"
      ],
      "metadata": {
        "id": "LChRB865KAnq"
      },
      "execution_count": null,
      "outputs": []
    },
    {
      "cell_type": "markdown",
      "source": [
        "## 2.5 Essential Libraries for Scientific Computing in Python\n",
        "### 2.5.1 NumPy: Numerical Computing with Arrays\n",
        "\n",
        "**NumPy** (Numerical Python) is the cornerstone library for scientific computing. Its main feature is the powerful N-dimensional array object, `ndarray`.\n",
        "\n",
        "**Python Lists vs. NumPy Arrays:**\n",
        "*   **Type:** Lists can hold different types; NumPy arrays are homogeneous (all elements are the same type).\n",
        "*   **Performance:** NumPy operations are implemented in C and are much faster for numerical tasks due to **vectorization**.\n",
        "*   **Memory:** NumPy arrays are more memory-efficient.\n",
        "*   **Functionality:** NumPy provides a vast library of mathematical functions that operate on arrays.\n",
        "\n",
        "By convention, we import NumPy with the alias `np`."
      ],
      "metadata": {
        "id": "KVjODR3RKCui"
      }
    },
    {
      "cell_type": "code",
      "source": [
        "import numpy as np"
      ],
      "metadata": {
        "id": "-OqCgeJ0KExh"
      },
      "execution_count": null,
      "outputs": []
    },
    {
      "cell_type": "markdown",
      "source": [
        "#### Creating NumPy Arrays\n",
        "Arrays can be created from lists or using built-in NumPy functions."
      ],
      "metadata": {
        "id": "Dqit3NajKHTA"
      }
    },
    {
      "cell_type": "code",
      "source": [
        "# From a Python list\n",
        "py_list = [1.0, 2.0, 3.0, 4.0]\n",
        "np_array = np.array(py_list)\n",
        "print(\"Array from list:\", np_array)\n",
        "print(\"Data type:\", np_array.dtype)\n",
        "\n",
        "# Using built-in functions\n",
        "zeros_array = np.zeros(5)\n",
        "print(\"\\nZeros array:\", zeros_array)\n",
        "\n",
        "# arange is like Python's range but returns a NumPy array\n",
        "arange_array = np.arange(0, 10, 2) # Start, stop (exclusive), step\n",
        "print(\"Arange array:\", arange_array)\n",
        "\n",
        "# linspace is often more useful: it creates a set number of points in an interval\n",
        "# Create 5 points from 0 to 10 (inclusive)\n",
        "linspace_array = np.linspace(0, 10, 5)\n",
        "print(\"Linspace array:\", linspace_array)"
      ],
      "metadata": {
        "id": "QGq74sCIKJwR"
      },
      "execution_count": null,
      "outputs": []
    },
    {
      "cell_type": "markdown",
      "source": [
        "#### NumPy Array Attributes\n",
        "Arrays have useful attributes to get information about them."
      ],
      "metadata": {
        "id": "XkDNCY7HKMcJ"
      }
    },
    {
      "cell_type": "code",
      "source": [
        "# Create a 2D array (3 rows, 4 columns)\n",
        "arr = np.array([[1, 2, 3, 4],\n",
        "                [5, 6, 7, 8],\n",
        "                [9, 10, 11, 12]])\n",
        "\n",
        "print(\"Array arr:\\n\", arr)\n",
        "print(\"Number of dimensions (ndim):\", arr.ndim)\n",
        "print(\"Shape of array (shape):\", arr.shape)\n",
        "print(\"Total number of elements (size):\", arr.size)\n",
        "print(\"Data type of elements (dtype):\", arr.dtype)"
      ],
      "metadata": {
        "id": "xOlifNXqKOED"
      },
      "execution_count": null,
      "outputs": []
    },
    {
      "cell_type": "markdown",
      "source": [
        "#### Basic Operations: Vectorization\n",
        "This is NumPy's most powerful feature. Operations are applied element-wise to entire arrays without writing Python loops."
      ],
      "metadata": {
        "id": "LocW3nR4KPwf"
      }
    },
    {
      "cell_type": "code",
      "source": [
        "a = np.array([1, 2, 3, 4])\n",
        "b = np.array([10, 20, 30, 40])\n",
        "\n",
        "print(\"Array a:\", a)\n",
        "print(\"Array b:\", b)\n",
        "\n",
        "# Element-wise addition\n",
        "print(\"a + b =\", a + b)\n",
        "\n",
        "# Scalar multiplication\n",
        "print(\"a * 2 =\", a * 2)\n",
        "\n",
        "# Element-wise squaring\n",
        "print(\"a ** 2 =\", a ** 2)\n",
        "\n",
        "# Universal functions (ufuncs) also operate element-wise\n",
        "angles = np.array([0, np.pi/2, np.pi])\n",
        "print(\"\\nsin(angles):\", np.sin(angles))"
      ],
      "metadata": {
        "id": "cOZhHpVwKRl7"
      },
      "execution_count": null,
      "outputs": []
    },
    {
      "cell_type": "markdown",
      "source": [
        "### 2.5.2 Matplotlib: Visualizing Data\n",
        "**Matplotlib** is the most widely used plotting library in Python. We typically use its `pyplot` module, imported with the alias `plt`."
      ],
      "metadata": {
        "id": "68T1ocLIKVis"
      }
    },
    {
      "cell_type": "code",
      "source": [
        "import matplotlib.pyplot as plt"
      ],
      "metadata": {
        "id": "PqVwKFrQKXUP"
      },
      "execution_count": null,
      "outputs": []
    },
    {
      "cell_type": "markdown",
      "source": [
        "#### Basic Plotting with Pyplot\n",
        "The following code creates a simple line plot. The plot will be displayed directly below the cell in the notebook."
      ],
      "metadata": {
        "id": "PbP3HqdaKY4E"
      }
    },
    {
      "cell_type": "code",
      "source": [
        "# Data for plotting\n",
        "x_values = np.array([0, 1, 2, 3, 4, 5])\n",
        "y_values = x_values**2 # Using NumPy for a vectorized calculation\n",
        "\n",
        "# Create the plot\n",
        "plt.plot(x_values, y_values)\n",
        "\n",
        "# Add labels and a title\n",
        "plt.xlabel(\"X-axis Label (e.g., Time)\")\n",
        "plt.ylabel(\"Y-axis Label (e.g., Value)\")\n",
        "plt.title(\"Simple Plot: y = x^2\")\n",
        "\n",
        "# Add a grid (optional, but often helpful)\n",
        "plt.grid(True)\n",
        "\n",
        "# Display the plot\n",
        "plt.show()"
      ],
      "metadata": {
        "id": "xodOWBE_Kats"
      },
      "execution_count": null,
      "outputs": []
    },
    {
      "cell_type": "markdown",
      "source": [
        "#### Plotting an Analytical ODE Solution\n",
        "Let's combine NumPy and Matplotlib to plot the analytical solution to Newton's Law of Cooling:\n",
        "$T(t) = T_{\\text{env}} + (T_0 - T_{\\text{env}}) e^{-kt}$"
      ],
      "metadata": {
        "id": "-rJ_jM2GKc--"
      }
    },
    {
      "cell_type": "code",
      "source": [
        "# Parameters for Newton's cooling law\n",
        "T_env = 20.0    # Ambient temperature (deg C)\n",
        "T0 = 90.0       # Initial temperature of the body (deg C)\n",
        "k_coeff = 0.05  # Cooling coefficient (e.g., 1/min)\n",
        "\n",
        "# Time array for plotting (from 0 to 60 minutes)\n",
        "# Use np.linspace for a smooth curve\n",
        "time_array = np.linspace(0, 60, 300)\n",
        "\n",
        "# Calculate the temperature using the analytical solution\n",
        "Temperature_analytical = T_env + (T0 - T_env) * np.exp(-k_coeff * time_array)\n",
        "\n",
        "# Create the plot\n",
        "plt.figure(figsize=(8, 5)) # Optional: set figure size for better readability\n",
        "plt.plot(time_array, Temperature_analytical, label=\"Analytical Solution\", color=\"blue\", linewidth=2)\n",
        "\n",
        "# Add labels, title, legend, and grid\n",
        "plt.xlabel(\"Time (minutes)\")\n",
        "plt.ylabel(\"Temperature (deg C)\")\n",
        "plt.title(\"Newton's Law of Cooling: Analytical Solution\")\n",
        "plt.legend()\n",
        "plt.grid(True)\n",
        "\n",
        "# Display the plot\n",
        "plt.show()"
      ],
      "metadata": {
        "id": "IgUElZoKKfHd"
      },
      "execution_count": null,
      "outputs": []
    },
    {
      "cell_type": "markdown",
      "source": [
        "## 2.6 Chapter Summary: Foundations and Tools\n",
        "\n",
        "This chapter has laid the essential groundwork for our journey. We covered:\n",
        "*   **Differential Equations:** How physical laws in geoscience are expressed as ODEs and PDEs, with examples like Newton's cooling and radioactive decay.\n",
        "*   **Python Basics:** The fundamentals of Python syntax, including variables, dynamic typing, indentation, functions, lists, and loops.\n",
        "*   **Core Scientific Libraries:**\n",
        "    *   **NumPy:** The power of `ndarray` for efficient numerical computation through vectorization.\n",
        "    *   **Matplotlib:** The essentials of creating informative 2D plots to visualize data and model results.\n",
        "\n",
        "With these tools, we are now ready to start building our own numerical solvers."
      ],
      "metadata": {
        "id": "8sNdKBvsKhmk"
      }
    },
    {
      "cell_type": "markdown",
      "source": [
        "## Chapter Exercises\n",
        "\n",
        "Here are some exercises to test your understanding. Write your solutions in the code cells provided."
      ],
      "metadata": {
        "id": "tghuhCycKjpj"
      }
    },
    {
      "cell_type": "markdown",
      "source": [
        "### E1: Classifying Differential Equations\n",
        "\n",
        "For each of the following differential equations, classify it by stating:\n",
        "1.  Whether it is an Ordinary Differential Equation (ODE) or a Partial Differential Equation (PDE).\n",
        "2.  Its order.\n",
        "3.  Whether it is linear or nonlinear. Justify your answer.\n",
        "\n",
        "(a) $\\frac{d^2y}{dx^2} + 2x \\frac{dy}{dx} + y = \\sin(x)$\n",
        "(b) $\\frac{\\partial u}{\\partial t} + u \\frac{\\partial u}{\\partial x} = \\nu \\frac{\\partial^2 u}{\\partial x^2}$ (Burgers' equation)\n",
        "(c) $\\frac{dT}{dt} = -k(T^4 - T_s^4)$ (Stefan-Boltzmann law)\n",
        "(d) $\\frac{\\partial^2 P}{\\partial x^2} + \\frac{\\partial^2 P}{\\partial y^2} = F(x,y)$ (Poisson's equation)\n",
        "(e) $L \\frac{dI}{dt} + R I = V(t)$ (RL circuit equation)\n",
        "(f) $\\frac{\\partial N}{\\partial t} = D \\frac{\\partial^2 N}{\\partial x^2} - \\lambda N^2$ (Reaction-diffusion equation)\n",
        "\n",
        "*(Write your answers in a new Markdown cell below)*"
      ],
      "metadata": {
        "id": "YjymnQEsKlOd"
      }
    },
    {
      "cell_type": "markdown",
      "source": [
        "### E2: Python List Manipulations and Loops\n",
        "\n",
        "Consider the following list representing depths (in meters):\n",
        "`depths = [10.5, 22.1, 15.0, 33.5, 8.2, 25.0, 19.7]`\n",
        "\n",
        "Write Python code to:\n",
        "1.  Print the depth of the second sample.\n",
        "2.  Print the last three depths using slicing.\n",
        "3.  Create a new list `shallowSamples` with depths less than 20 meters.\n",
        "4.  Calculate and print the average depth.\n",
        "5.  Create a new list with depths converted to feet (1 m ≈ 3.28084 ft)."
      ],
      "metadata": {
        "id": "OqaIVezNKn16"
      }
    },
    {
      "cell_type": "code",
      "source": [
        "# Your code for E2 here\n",
        "depths = [10.5, 22.1, 15.0, 33.5, 8.2, 25.0, 19.7]\n",
        "\n",
        "# 1. Print second sample\n",
        "print(\"1. Second sample depth:\", \"...\")\n",
        "\n",
        "# 2. Print last three depths\n",
        "print(\"2. Last three depths:\", \"...\")\n",
        "\n",
        "# 3. Create list of shallow samples\n",
        "shallowSamples = []\n",
        "# ... your loop here ...\n",
        "print(\"3. Shallow samples:\", shallowSamples)\n",
        "\n",
        "\n",
        "# 4. Calculate average depth\n",
        "total_depth = 0\n",
        "# ... your loop here ...\n",
        "average_depth = 0 # ... your calculation here\n",
        "print(\"4. Average depth:\", average_depth)\n",
        "\n",
        "\n",
        "# 5. Convert to feet\n",
        "depths_in_feet = []\n",
        "# ... your loop here ...\n",
        "print(\"5. Depths in feet:\", depths_in_feet)"
      ],
      "metadata": {
        "id": "8F1ziWh7Kpxf"
      },
      "execution_count": null,
      "outputs": []
    },
    {
      "cell_type": "markdown",
      "source": [
        "### E3: NumPy Array Operations\n",
        "\n",
        "Perform the following tasks using NumPy.\n",
        "1. Create a NumPy array `porosityValues` from `[0.12, 0.15, 0.08, 0.21, 0.17]`. Print the array, its shape, and data type.\n",
        "2. Create a 1D NumPy array `xCoordinates` with 50 equally spaced points from -5.0 to 5.0.\n",
        "3. Create a 4x2 NumPy array `matrixB` filled with the value 7.5.\n",
        "4. Given `vec1` and `vec2`, perform the specified calculations.\n",
        "5. Create a 1D NumPy array of 10 random integers between 1 and 100."
      ],
      "metadata": {
        "id": "-C_UkWWYKxHz"
      }
    },
    {
      "cell_type": "code",
      "source": [
        "# Your code for E3 here\n",
        "import numpy as np\n",
        "\n",
        "# 1. Create porosityValues array\n",
        "print(\"--- Task 1 ---\")\n",
        "porosityValues = \"...\"\n",
        "print(porosityValues)\n",
        "print(\"Shape:\", \"...\")\n",
        "print(\"Dtype:\", \"...\")\n",
        "\n",
        "\n",
        "# 2. Create xCoordinates array\n",
        "print(\"\\n--- Task 2 ---\")\n",
        "xCoordinates = \"...\"\n",
        "print(\"First 5 values of xCoordinates:\", xCoordinates[:5])\n",
        "print(\"Last 5 values of xCoordinates:\", xCoordinates[-5:])\n",
        "\n",
        "\n",
        "# 3. Create matrixB\n",
        "print(\"\\n--- Task 3 ---\")\n",
        "matrixB = \"...\"\n",
        "print(matrixB)\n",
        "\n",
        "\n",
        "# 4. Vector operations\n",
        "print(\"\\n--- Task 4 ---\")\n",
        "vec1 = np.array([0.1, 0.2, 0.3, 0.4])\n",
        "vec2 = np.array([10.0, 20.0, 30.0, 40.0])\n",
        "print(\"vec1 * vec2 =\", \"...\")\n",
        "print(\"sin(vec1) =\", \"...\")\n",
        "print(\"vec2 - 5 =\", \"...\")\n",
        "\n",
        "\n",
        "# 5. Random integers\n",
        "print(\"\\n--- Task 5 ---\")\n",
        "random_integers = \"...\"\n",
        "print(random_integers)"
      ],
      "metadata": {
        "id": "s1xKiDxgKzgq"
      },
      "execution_count": null,
      "outputs": []
    },
    {
      "cell_type": "markdown",
      "source": [
        "### E4: Basic Plotting with Matplotlib\n",
        "1.  **Plot a Geothermal Gradient:** Plot temperature vs. depth for $T(z) = 15 + 0.025 \\cdot z$ from z=0 to 2000m. Label the plot appropriately.\n",
        "2.  **Multiple Functions on One Plot:** Plot $y=x^p$ for $p=1, 2, 3$ on the same graph, for $x \\in [0, 4]$. Use a loop and add a legend."
      ],
      "metadata": {
        "id": "rVD0mAW8K1ai"
      }
    },
    {
      "cell_type": "code",
      "source": [
        "# Your code for E4, part 1 here\n",
        "import matplotlib.pyplot as plt\n",
        "import numpy as np\n",
        "\n",
        "print(\"--- Plot 1: Geothermal Gradient ---\")\n",
        "# 1. Geothermal Gradient\n",
        "T_surface = 15.0\n",
        "G = 0.025\n",
        "zValues = \"...\" # Create depth array\n",
        "Tvalues = \"...\" # Calculate temperature array\n",
        "\n",
        "# Create plot\n",
        "# ...\n",
        "\n",
        "plt.show()"
      ],
      "metadata": {
        "id": "A_IqYv4FK3NG"
      },
      "execution_count": null,
      "outputs": []
    },
    {
      "cell_type": "code",
      "source": [
        "# Your code for E4, part 2 here\n",
        "print(\"\\n--- Plot 2: y = x^p ---\")\n",
        "# 2. Multiple functions\n",
        "xVals = \"...\" # Create x array\n",
        "powers = [1, 2, 3]\n",
        "\n",
        "plt.figure() # Create a new figure\n",
        "\n",
        "# Loop to plot\n",
        "# ...\n",
        "\n",
        "# Add labels, legend, etc.\n",
        "# ...\n",
        "\n",
        "plt.show()"
      ],
      "metadata": {
        "id": "opzaf6YTK6Kj"
      },
      "execution_count": null,
      "outputs": []
    }
  ]
}