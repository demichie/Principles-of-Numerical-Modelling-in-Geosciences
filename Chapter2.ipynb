{
  "nbformat": 4,
  "nbformat_minor": 0,
  "metadata": {
    "colab": {
      "provenance": [],
      "authorship_tag": "ABX9TyNmCOsh9pxKn2K1W/U5esyd",
      "include_colab_link": true
    },
    "kernelspec": {
      "name": "python3",
      "display_name": "Python 3"
    },
    "language_info": {
      "name": "python"
    }
  },
  "cells": [
    {
      "cell_type": "markdown",
      "metadata": {
        "id": "view-in-github",
        "colab_type": "text"
      },
      "source": [
        "<a href=\"https://colab.research.google.com/github/demichie/Principles-of-Numerical-Modelling-in-Geosciences/blob/main/Chapter2.ipynb\" target=\"_parent\"><img src=\"https://colab.research.google.com/assets/colab-badge.svg\" alt=\"Open In Colab\"/></a>"
      ]
    },
    {
      "cell_type": "markdown",
      "source": [
        "# Chapter 2: Differential Equations in Geosciences and Python Essentials\n",
        "\n",
        "This chapter serves as an introduction to the fundamental role of differential equations in describing Earth science phenomena and lays the groundwork for using Python as a computational tool for their numerical solution. We begin by exploring why differential equations are so prevalent in geosciences, illustrating with examples such as cooling processes and radioactive decay. Subsequently, we introduce the Python programming language, covering basic syntax, essential data structures like lists, and the powerful libraries NumPy and Matplotlib, which are indispensable for scientific computing and visualization."
      ],
      "metadata": {
        "id": "TI8X7bG_gPM-"
      }
    },
    {
      "cell_type": "markdown",
      "source": [
        "## 2.1 The Language of Change: Differential Equations in Earth Sciences\n",
        "\n",
        "Many of the processes that shape our planet involve quantities that change over time and/or space. These dynamic phenomena are governed by fundamental physical laws (e.g., conservation of mass, momentum, and energy), which, when translated into precise mathematical statements, frequently take the form of **differential equations**.\n",
        "\n",
        "A differential equation relates a function with its derivatives (rates of change). Understanding these equations allows us to quantify, simulate, and predict the behavior of complex natural systems. We will encounter two main types:\n",
        "- **Ordinary Differential Equations (ODEs)**, where the unknown function depends on a single independent variable (typically time).\n",
        "- **Partial Differential Equations (PDEs)**, where the unknown function depends on multiple independent variables (e.g., time and space).\n",
        "\n",
        "While analytical solutions are possible for simple cases, most real-world problems require **numerical methods** to find approximate solutions."
      ],
      "metadata": {
        "id": "s6xdTv2ugRzv"
      }
    },
    {
      "cell_type": "markdown",
      "source": [
        "### 2.1.1 Example: Cooling Processes and Newton's Law\n",
        "\n",
        "Cooling is a ubiquitous process in Earth sciences. Newton's Law of Cooling states that the rate at which an object cools is proportional to the temperature difference between the object and its surroundings.\n",
        "\n",
        "If $T(t)$ is the object's temperature and $T_{\\text{env}}$ is the environment's temperature, the law can be expressed as a **first-order linear ordinary differential equation (ODE)**:\n",
        "$$\n",
        "\\frac{dT}{dt} = -k (T(t) - T_{\\text{env}})\n",
        "$$\n",
        "where $k$ is a positive cooling coefficient. This is a *lumped-parameter model*, which assumes the temperature $T$ is uniform throughout the object at any given time."
      ],
      "metadata": {
        "id": "J5qUog5WgTuJ"
      }
    },
    {
      "cell_type": "markdown",
      "source": [
        "### 2.1.2 Example: Radioactive Decay\n",
        "\n",
        "Radioactive decay, the cornerstone of radiometric dating, is another process described by a simple ODE. The rate of decay of a parent isotope is proportional to the number of radioactive atoms, $N(t)$, currently present.\n",
        "\n",
        "This relationship is described by the ODE:\n",
        "$$\n",
        "\\frac{dN(t)}{dt} = -\\lambda N(t)\n",
        "$$\n",
        "where $\\lambda$ is the **decay constant**. Given an initial number of atoms $N_0$, the analytical solution is:\n",
        "$$\n",
        "N(t) = N_0 e^{-\\lambda t}\n",
        "$$"
      ],
      "metadata": {
        "id": "kXANwafSgWAa"
      }
    },
    {
      "cell_type": "markdown",
      "source": [
        "### 2.1.3 Ordinary vs. Partial Differential Equations: A First Look\n",
        "\n",
        "The two examples above are **ODEs** because the unknown functions ($T(t)$, $N(t)$) depend only on a single variable, time.\n",
        "\n",
        "However, many phenomena depend on multiple variables, like time *and* space. These require **Partial Differential Equations (PDEs)**. For example, the temperature in a large lava flow, $T(x,t)$, which varies with depth $x$ and time $t$, can be modeled by the heat equation:\n",
        "$$\n",
        "\\frac{\\partial T}{\\partial t} = \\kappa \\frac{\\partial^2 T}{\\partial x^2}\n",
        "$$\n",
        "Here, we have partial derivatives with respect to both time and space. We will start with ODEs before tackling PDEs in later chapters."
      ],
      "metadata": {
        "id": "GsXuAHAugXEd"
      }
    },
    {
      "cell_type": "markdown",
      "source": [
        "<div class=\"alert alert-block alert-info\">\n",
        "    <b>Concept Check!</b>\n",
        "    <br>\n",
        "    <ul>\n",
        "        <li>Can you think of a geoscience process where something changes over time or space? What changes, and what causes the change?</li>\n",
        "    </ul>\n",
        "</div>"
      ],
      "metadata": {
        "id": "nBP8y3zxgabx"
      }
    },
    {
      "cell_type": "markdown",
      "source": [
        "### 2.1.4 Characterizing Differential Equations: Order and Linearity\n",
        "\n",
        "#### Order of a Differential Equation\n",
        "The **order** is the highest-order derivative present in the equation.\n",
        "- **First-Order:** Radioactive decay, $\\frac{dN}{dt} = -\\lambda N$.\n",
        "- **Second-Order:** The 1D heat equation, $\\frac{\\partial T}{\\partial t} = \\kappa \\frac{\\partial^2 T}{\\partial x^2}$.\n",
        "\n",
        "#### Linearity and Nonlinearity\n",
        "A differential equation is **linear** if the unknown function and its derivatives appear linearly (i.e., not multiplied by each other, not raised to powers other than 1, not inside other functions like `sin(u)`).\n",
        "\n",
        "An equation that is not linear is called **nonlinear**. Nonlinearities can arise in many ways:\n",
        "*   The unknown function or its derivatives are raised to a power other than one (e.g., $u^2 +\\frac{\\partial u}{\\partial x}$ which contains $u^2$, making it nonlinear, or a term like $(\\frac{\\partial u}{\\partial x})^2$).\n",
        "*   Products of the unknown function and its derivatives (e.g., $\\phi \\frac{\\partial \\phi}{\\partial x}$).\n",
        "*   The unknown function appears as the argument of a nonlinear function (e.g., $\\sin(\\phi)$).\n",
        "*   Coefficients that depend on the unknown function itself (e.g., in Richards' equation for unsaturated flow, the hydraulic conductivity $K(\\theta)$ depends on the water content $\\theta$, making the term $\\frac{\\partial}{\\partial z}(K(\\theta)\\frac{\\partial \\psi}{\\partial z})$ nonlinear).\n",
        "\n",
        "Nonlinear equations are generally much harder to solve and can exhibit more complex behaviors."
      ],
      "metadata": {
        "id": "p2ekiUiWgcWP"
      }
    },
    {
      "cell_type": "markdown",
      "source": [
        "## 2.2 Introduction to Python for Numerical Modelling\n",
        "\n",
        "We will use **Python** for its readability and rich ecosystem of scientific libraries. We will primarily use **Jupyter Notebooks**, which allow us to combine live code, equations, and explanatory text in a single, interactive document."
      ],
      "metadata": {
        "id": "WFdkN1-BggBA"
      }
    },
    {
      "cell_type": "markdown",
      "source": [
        "### 2.2.1 Python Syntax Basics\n",
        "#### Variables and Assignment\n",
        "Python is **dynamically typed**, so you don't declare a variable's type."
      ],
      "metadata": {
        "id": "_TZHYPWogif7"
      }
    },
    {
      "cell_type": "code",
      "source": [
        "# Assigning different data types to variables\n",
        "x = 3.0           # x is now a floating-point number (float)\n",
        "name = \"basalt\"   # name is now a string (str)\n",
        "is_volcano = True # is_volcano is now a boolean (bool)\n",
        "count = 10        # count is now an integer (int)\n",
        "\n",
        "# You can print the value and type of a variable\n",
        "print(x, type(x))\n",
        "print(name, type(name))"
      ],
      "metadata": {
        "colab": {
          "base_uri": "https://localhost:8080/"
        },
        "id": "N7UQH6-WgmSc",
        "outputId": "57f7b23c-65ad-48b1-bd66-4e7715645b27"
      },
      "execution_count": 1,
      "outputs": [
        {
          "output_type": "stream",
          "name": "stdout",
          "text": [
            "3.0 <class 'float'>\n",
            "basalt <class 'str'>\n"
          ]
        }
      ]
    },
    {
      "cell_type": "markdown",
      "source": [
        "#### Indentation\n",
        "Python uses **indentation** (strictly, 4 spaces per level) to define code blocks."
      ],
      "metadata": {
        "id": "fEgE6pQWgoEv"
      }
    },
    {
      "cell_type": "code",
      "source": [
        "# Example of a for loop and an if statement\n",
        "for i in range(3):  # The colon indicates the start of a block\n",
        "    print(\"Outer loop, i =\", i) # This line is indented, part of the for loop\n",
        "    if i % 2 == 0: # Another block starts here\n",
        "        print(\"   i is even\") # Further indented, part of the if block\n",
        "    else:\n",
        "        print(\"   i is odd\")  # Also part of the else block\n",
        "print(\"Loop finished\") # This line is not indented, so it's outside the for loop"
      ],
      "metadata": {
        "colab": {
          "base_uri": "https://localhost:8080/"
        },
        "id": "9gjUn2W9gq8X",
        "outputId": "676c635f-609d-46df-bfaa-03c3ebd6bf8d"
      },
      "execution_count": 2,
      "outputs": [
        {
          "output_type": "stream",
          "name": "stdout",
          "text": [
            "Outer loop, i = 0\n",
            "   i is even\n",
            "Outer loop, i = 1\n",
            "   i is odd\n",
            "Outer loop, i = 2\n",
            "   i is even\n",
            "Loop finished\n"
          ]
        }
      ]
    },
    {
      "cell_type": "markdown",
      "source": [
        "#### Comments\n",
        "Comments start with `#`. Docstrings are enclosed in `\"\"\"...\"\"\"`."
      ],
      "metadata": {
        "id": "pIN4oKzdgswI"
      }
    },
    {
      "cell_type": "code",
      "source": [
        "# This is a single-line comment explaining the next line\n",
        "gravity_g = 9.81  # m/s^2, standard gravity\n",
        "\n",
        "\"\"\"\n",
        "This is a\n",
        "multi-line comment using triple quotes.\n",
        "It can span several lines.\n",
        "\"\"\"\n",
        "\n",
        "def calculate_area(radius):\n",
        "    \"\"\"This is a docstring. It explains what the function does.\"\"\"\n",
        "    return 3.14159 * radius**2"
      ],
      "metadata": {
        "id": "wwfhLdS7gu61"
      },
      "execution_count": 3,
      "outputs": []
    },
    {
      "cell_type": "markdown",
      "source": [
        "#### Line Length and Line Continuation\n",
        "For readability, long lines can be broken up inside `()`, `[]`, or `{}` (implicit continuation), or with a backslash `\\` (explicit continuation)."
      ],
      "metadata": {
        "id": "jCx_zoYWgwuW"
      }
    },
    {
      "cell_type": "code",
      "source": [
        "# Implicit line continuation in Python.\n",
        "# Long list definition\n",
        "my_long_list = [\n",
        "    1, 2, 3, 4, 5, 6, 7, 8, 9, 10, 11, 12, 13, 14, 15,\n",
        "    16, 17, 18, 19, 20, # Comments can also be on continued lines\n",
        "    ]\n",
        "\n",
        "# Long arithmetic expression within parentheses\n",
        "first_value, second_value, third_value, fourth_value, fifth_value = 1,2,3,4,5\n",
        "total_value = (first_value + second_value + third_value\n",
        "               - fourth_value + fifth_value)"
      ],
      "metadata": {
        "id": "O_ntn95pgyfS"
      },
      "execution_count": 4,
      "outputs": []
    },
    {
      "cell_type": "code",
      "source": [
        "# Explicit line continuation using backslash.\n",
        "# Long assignment statement using backslash\n",
        "x = 1 + 2 + 3 + \\\n",
        "    4 + 5 + 6 + \\\n",
        "    7 + 8 + 9\n",
        "print(x)\n",
        "\n",
        "# Long if condition\n",
        "a_variable = 10\n",
        "another_variable = 20\n",
        "yet_another_variable = 30\n",
        "if a_variable > 5 and \\\n",
        "   another_variable < 30 and \\\n",
        "   yet_another_variable == 30:\n",
        "    print(\"All conditions met!\")"
      ],
      "metadata": {
        "colab": {
          "base_uri": "https://localhost:8080/"
        },
        "id": "QqowFiyEg0lO",
        "outputId": "94d17bd9-80fa-4ee5-ec36-106461e4e053"
      },
      "execution_count": 5,
      "outputs": [
        {
          "output_type": "stream",
          "name": "stdout",
          "text": [
            "45\n",
            "All conditions met!\n"
          ]
        }
      ]
    },
    {
      "cell_type": "markdown",
      "source": [
        "#### Defining Reusable Blocks of Code: Functions\n",
        "Functions are defined with `def`. Variables defined as parameters or inside a function are **local** to that function's \"workspace\"—they are created when the function is called, destroyed when it finishes, and do not conflict with variables of the same name outside the function."
      ],
      "metadata": {
        "id": "lzL74cijg52o"
      }
    },
    {
      "cell_type": "code",
      "source": [
        "# Define a function to calculate the area of a circle\n",
        "def calculateCircleArea(radius):\n",
        "    \"\"\"Calculates the area of a circle given its radius.\"\"\"\n",
        "    piApprox = 3.14159 # Using camelCase for local variable\n",
        "    area = piApprox * radius**2\n",
        "    return area\n",
        "\n",
        "# Call the function with different arguments\n",
        "radiusOne = 5.0 # Using camelCase\n",
        "areaOne = calculateCircleArea(radiusOne)\n",
        "# Using print with multiple arguments, separated by commas\n",
        "print(\"The area of a circle with radius\", radiusOne, \"is\", areaOne)\n",
        "# Note: This will print with default spacing. We'll see f-strings for better formatting later.\n",
        "\n",
        "radiusTwo = 2.5 # Using camelCase\n",
        "areaTwo = calculateCircleArea(radiusTwo)\n",
        "# Alternatively, converting numbers to strings and concatenating\n",
        "# (This is more verbose than using f-strings or multiple print arguments)\n",
        "print(\"The area of a circle with radius \" + str(radiusTwo) + \" is \" + str(areaTwo))\n",
        "\n",
        "# Example of a function without a specific return value (implicitly returns None)\n",
        "def greet(name):\n",
        "    \"\"\"Prints a greeting message.\"\"\"\n",
        "    print(\"Hello,\", name, \"!\") # Using multiple arguments for print\n",
        "\n",
        "greet(\"World\")\n",
        "returnedValue = greet(\"Student\") # greet() is called, message printed\n",
        "print(\"Value returned by greet():\", returnedValue) # Will print: None"
      ],
      "metadata": {
        "colab": {
          "base_uri": "https://localhost:8080/"
        },
        "id": "TwXqP7hFg7-f",
        "outputId": "ceca6c76-e5c4-4604-95ca-adcfac79c103"
      },
      "execution_count": 7,
      "outputs": [
        {
          "output_type": "stream",
          "name": "stdout",
          "text": [
            "The area of a circle with radius 5.0 is 78.53975\n",
            "The area of a circle with radius 2.5 is 19.6349375\n",
            "Hello, World !\n",
            "Hello, Student !\n",
            "Value returned by greet(): None\n"
          ]
        }
      ]
    },
    {
      "cell_type": "markdown",
      "source": [
        "## 2.3 Fundamental Python Data Structures: Lists\n",
        "\n",
        "A **list** is an ordered, mutable (changeable) collection of items, created with `[]`."
      ],
      "metadata": {
        "id": "B4U-BCxig929"
      }
    },
    {
      "cell_type": "code",
      "source": [
        "# Creating lists in Python.\n",
        "# A list of floating-point numbers (temperatures)\n",
        "temperatures = [15.5, 16.1, 15.8, 17.0]\n",
        "print(temperatures)\n",
        "\n",
        "# A list of strings (rock types)\n",
        "rock_types = [\"basalt\", \"granite\", \"shale\", \"sandstone\"]\n",
        "print(rock_types)\n",
        "\n",
        "# A list containing mixed data types\n",
        "mixed_data = [10, \"andesite\", 25.3, True]\n",
        "print(mixed_data)\n",
        "\n",
        "# An empty list (can be populated later)\n",
        "empty_list = []\n",
        "print(empty_list)\n",
        "\n",
        "# A list containing another list (nested list)\n",
        "nested_list = [1, 2, [\"a\", \"b\"], 3]\n",
        "print(nested_list)"
      ],
      "metadata": {
        "colab": {
          "base_uri": "https://localhost:8080/"
        },
        "id": "hLQboJ3bhAld",
        "outputId": "64bb4a3a-6002-45ca-d8c7-f877c418051d"
      },
      "execution_count": 8,
      "outputs": [
        {
          "output_type": "stream",
          "name": "stdout",
          "text": [
            "[15.5, 16.1, 15.8, 17.0]\n",
            "['basalt', 'granite', 'shale', 'sandstone']\n",
            "[10, 'andesite', 25.3, True]\n",
            "[]\n",
            "[1, 2, ['a', 'b'], 3]\n"
          ]
        }
      ]
    },
    {
      "cell_type": "markdown",
      "source": [
        "### 2.3.1 Accessing List Elements: Indexing\n",
        "\n",
        "Python uses **0-based indexing**. The first element is at index `0`. Negative indices access elements from the end (`-1` is the last element)."
      ],
      "metadata": {
        "id": "quZcneuyhCu0"
      }
    },
    {
      "cell_type": "code",
      "source": [
        "# Accessing list elements using positive indices.\n",
        "rock_samples = [\"granite\", \"basalt\", \"shale\", \"sandstone\", \"limestone\"]\n",
        "print(\"Original list:\", rock_samples)\n",
        "\n",
        "# Accessing the first element (index 0)\n",
        "first_sample = rock_samples[0]\n",
        "print(\"First sample (index 0):\", first_sample)  # Output: granite\n",
        "\n",
        "# Accessing the third element (index 2)\n",
        "third_sample = rock_samples[2]\n",
        "print(\"Third sample (index 2):\", third_sample)  # Output: shale"
      ],
      "metadata": {
        "colab": {
          "base_uri": "https://localhost:8080/"
        },
        "id": "XIu0HqGbhEqL",
        "outputId": "3ad19537-a6e6-4937-97de-966dd482afc3"
      },
      "execution_count": 9,
      "outputs": [
        {
          "output_type": "stream",
          "name": "stdout",
          "text": [
            "Original list: ['granite', 'basalt', 'shale', 'sandstone', 'limestone']\n",
            "First sample (index 0): granite\n",
            "Third sample (index 2): shale\n"
          ]
        }
      ]
    },
    {
      "cell_type": "code",
      "source": [
        "# Accessing list elements using negative indices.\n",
        "elements = [\"Oxygen\", \"Silicon\", \"Aluminum\", \"Iron\", \"Calcium\"]\n",
        "print(\"Original list of elements:\", elements)\n",
        "\n",
        "# Accessing the last element\n",
        "last_element = elements[-1]\n",
        "print(\"Last element (index -1):\", last_element)  # Output: Calcium\n",
        "\n",
        "# Accessing the second-to-last element\n",
        "second_to_last = elements[-2]\n",
        "print(\"Second-to-last element (index -2):\", second_to_last)  # Output: Iron"
      ],
      "metadata": {
        "colab": {
          "base_uri": "https://localhost:8080/"
        },
        "id": "SqX1vt28hGUl",
        "outputId": "528f1070-49bf-41e2-f4be-e018765eb818"
      },
      "execution_count": 10,
      "outputs": [
        {
          "output_type": "stream",
          "name": "stdout",
          "text": [
            "Original list of elements: ['Oxygen', 'Silicon', 'Aluminum', 'Iron', 'Calcium']\n",
            "Last element (index -1): Calcium\n",
            "Second-to-last element (index -2): Iron\n"
          ]
        }
      ]
    },
    {
      "cell_type": "markdown",
      "source": [
        "### 2.3.2 Extracting Sub-Lists: Slicing\n",
        "\n",
        "It is crucial to distinguish indexing from slicing:\n",
        "- **Indexing** (`listName[index]`) accesses a *single item* and returns that item itself.\n",
        "- **Slicing** (`listName[start:stop]`) extracts a *sequence of items* and always returns a **new list**. The colon (`:`) indicates a slice."
      ],
      "metadata": {
        "id": "mzuPJLb2hIpW"
      }
    },
    {
      "cell_type": "code",
      "source": [
        "# Distinguishing between indexing and slicing.\n",
        "measurements = [10.1, 12.5, 11.3, 13.0]\n",
        "\n",
        "# Indexing: returns the element itself (a float)\n",
        "first_element = measurements[0]\n",
        "print(f\"Indexing with measurements[0]: {first_element}, type: {type(first_element)}\")\n",
        "\n",
        "# Slicing: returns a new list containing the element\n",
        "first_slice = measurements[0:1]\n",
        "print(f\"Slicing with measurements[0:1]: {first_slice}, type: {type(first_slice)}\")"
      ],
      "metadata": {
        "colab": {
          "base_uri": "https://localhost:8080/"
        },
        "id": "HiDft5PKhKUV",
        "outputId": "7bab23c8-42f5-478a-c557-e5f76aebceee"
      },
      "execution_count": 11,
      "outputs": [
        {
          "output_type": "stream",
          "name": "stdout",
          "text": [
            "Indexing with measurements[0]: 10.1, type: <class 'float'>\n",
            "Slicing with measurements[0:1]: [10.1], type: <class 'list'>\n"
          ]
        }
      ]
    },
    {
      "cell_type": "code",
      "source": [
        "# Basic list slicing.\n",
        "measurements = [10.1, 12.5, 11.3, 13.0, 12.8, 10.9, 11.5, 14.2]\n",
        "print(\"Original measurements:\", measurements)\n",
        "\n",
        "# Get elements from index 1 up to (but not including) index 4\n",
        "sub_list1 = measurements[1:4]\n",
        "print(\"measurements[1:4]:\", sub_list1)  # Output: [12.5, 11.3, 13.0]\n",
        "\n",
        "# Get elements from the beginning up to (not including) index 3\n",
        "sub_list2 = measurements[:3]\n",
        "print(\"measurements[:3]:\", sub_list2)  # Output: [10.1, 12.5, 11.3]\n",
        "\n",
        "# Get elements from index 3 to the end of the list\n",
        "sub_list3 = measurements[3:]\n",
        "print(\"measurements[3:]:\", sub_list3)  # Output: [13.0, 12.8, 10.9, 11.5, 14.2]\n",
        "\n",
        "# Creating a (shallow) copy of the entire list\n",
        "full_copy = measurements[:]\n",
        "print(\"measurements[:]:\", full_copy)\n",
        "print(\"Is full_copy the same object as measurements?\", full_copy is measurements) # Output: False"
      ],
      "metadata": {
        "colab": {
          "base_uri": "https://localhost:8080/"
        },
        "id": "QFgEyYrshMPO",
        "outputId": "f25fcc81-9246-4f2f-b0d9-b48c36242eb1"
      },
      "execution_count": 12,
      "outputs": [
        {
          "output_type": "stream",
          "name": "stdout",
          "text": [
            "Original measurements: [10.1, 12.5, 11.3, 13.0, 12.8, 10.9, 11.5, 14.2]\n",
            "measurements[1:4]: [12.5, 11.3, 13.0]\n",
            "measurements[:3]: [10.1, 12.5, 11.3]\n",
            "measurements[3:]: [13.0, 12.8, 10.9, 11.5, 14.2]\n",
            "measurements[:]: [10.1, 12.5, 11.3, 13.0, 12.8, 10.9, 11.5, 14.2]\n",
            "Is full_copy the same object as measurements? False\n"
          ]
        }
      ]
    },
    {
      "cell_type": "code",
      "source": [
        "# List slicing with a step.\n",
        "numbers = [0, 1, 2, 3, 4, 5, 6, 7, 8, 9]\n",
        "print(\"Original numbers:\", numbers)\n",
        "\n",
        "# Get every second element from the beginning to the end\n",
        "every_other = numbers[::2]  # start and stop are omitted\n",
        "print(\"numbers[::2]:\", every_other)  # Output: [0, 2, 4, 6, 8]\n",
        "\n",
        "# Get elements from index 1 up to (not including) index 8, with a step of 3\n",
        "stepped_slice = numbers[1:8:3]\n",
        "print(\"numbers[1:8:3]:\", stepped_slice)  # Output: [1, 4, 7]\n",
        "\n",
        "# A common idiom to reverse a list\n",
        "reversed_list = numbers[::-1] # start and stop omitted, step is -1\n",
        "print(\"numbers[::-1]:\", reversed_list)  # Output: [9, 8, 7, 6, 5, 4, 3, 2, 1, 0]"
      ],
      "metadata": {
        "colab": {
          "base_uri": "https://localhost:8080/"
        },
        "id": "l7rMJfa1hOLY",
        "outputId": "ada46740-89e3-40ac-d8f4-f3b75b642e23"
      },
      "execution_count": 13,
      "outputs": [
        {
          "output_type": "stream",
          "name": "stdout",
          "text": [
            "Original numbers: [0, 1, 2, 3, 4, 5, 6, 7, 8, 9]\n",
            "numbers[::2]: [0, 2, 4, 6, 8]\n",
            "numbers[1:8:3]: [1, 4, 7]\n",
            "numbers[::-1]: [9, 8, 7, 6, 5, 4, 3, 2, 1, 0]\n"
          ]
        }
      ]
    },
    {
      "cell_type": "markdown",
      "source": [
        "### 2.3.3 Mutability: Lists Can Be Changed\n",
        "Lists are **mutable**, meaning their contents can be modified after they are created."
      ],
      "metadata": {
        "id": "JBeLy5t6hQq2"
      }
    },
    {
      "cell_type": "code",
      "source": [
        "# Modifying list elements.\n",
        "rock_types = [\"basalt\", \"granite\", \"shale\"]\n",
        "print(\"Initial rock_types:\", rock_types)\n",
        "\n",
        "# Change an element at a specific index\n",
        "rock_types[1] = \"rhyolite\" # Replace \"granite\" with \"rhyolite\"\n",
        "print(\"After changing index 1:\", rock_types)\n",
        "\n",
        "# Add an element to the end of the list using the append() method\n",
        "rock_types.append(\"marble\")\n",
        "print(\"After appending 'marble':\", rock_types)\n",
        "\n",
        "# Remove an element by its value using the remove() method\n",
        "rock_types.remove(\"shale\")\n",
        "print(\"After removing 'shale':\", rock_types)\n",
        "\n",
        "# Remove an element by its index using the del statement or pop() method\n",
        "del rock_types[0] # Removes \"basalt\"\n",
        "print(\"After deleting element at index 0:\", rock_types)\n",
        "\n",
        "popped_element = rock_types.pop() # Removes and returns the last element (\"marble\")\n",
        "print(\"After popping the last element:\", rock_types)\n",
        "print(\"Popped element:\", popped_element)"
      ],
      "metadata": {
        "colab": {
          "base_uri": "https://localhost:8080/"
        },
        "id": "W4XuVQCKhSVX",
        "outputId": "6ba1bfe2-980d-41d7-d187-3ce919158fc4"
      },
      "execution_count": 14,
      "outputs": [
        {
          "output_type": "stream",
          "name": "stdout",
          "text": [
            "Initial rock_types: ['basalt', 'granite', 'shale']\n",
            "After changing index 1: ['basalt', 'rhyolite', 'shale']\n",
            "After appending 'marble': ['basalt', 'rhyolite', 'shale', 'marble']\n",
            "After removing 'shale': ['basalt', 'rhyolite', 'marble']\n",
            "After deleting element at index 0: ['rhyolite', 'marble']\n",
            "After popping the last element: ['rhyolite']\n",
            "Popped element: marble\n"
          ]
        }
      ]
    },
    {
      "cell_type": "markdown",
      "source": [
        "### 2.3.4 Variables, References, and Copying Lists\n",
        "Assigning a list creates a **reference**, not a new copy. Modifying the list through one variable affects the other."
      ],
      "metadata": {
        "id": "lQpx48DFhUss"
      }
    },
    {
      "cell_type": "code",
      "source": [
        "# List assignment creates references, not copies.\n",
        "list_a = [10, 20, 30]\n",
        "list_b = list_a  # list_b now refers to the SAME list object as list_a\n",
        "\n",
        "print(\"list_a:\", list_a)\n",
        "print(\"list_b:\", list_b)\n",
        "\n",
        "# Modify the list using list_b\n",
        "list_b[0] = 99\n",
        "print(\"After modifying list_b[0]:\")\n",
        "print(\"list_a:\", list_a)  # Output: [99, 20, 30] - list_a is also changed!\n",
        "print(\"list_b:\", list_b)  # Output: [99, 20, 30]\n",
        "\n",
        "# Check if they are the same object in memory\n",
        "print(\"Are list_a and list_b the same object?\", list_a is list_b) # Output: True"
      ],
      "metadata": {
        "colab": {
          "base_uri": "https://localhost:8080/"
        },
        "id": "6EfidrHohWTA",
        "outputId": "968236fd-7565-4e9c-eac3-a49998c778a6"
      },
      "execution_count": 15,
      "outputs": [
        {
          "output_type": "stream",
          "name": "stdout",
          "text": [
            "list_a: [10, 20, 30]\n",
            "list_b: [10, 20, 30]\n",
            "After modifying list_b[0]:\n",
            "list_a: [99, 20, 30]\n",
            "list_b: [99, 20, 30]\n",
            "Are list_a and list_b the same object? True\n"
          ]
        }
      ]
    },
    {
      "cell_type": "markdown",
      "source": [
        "To create an independent **shallow copy**, use `old_list[:]`, `list(old_list)`, or `old_list.copy()`. A shallow copy creates a new top-level list, but nested lists are still shared references."
      ],
      "metadata": {
        "id": "aUWeVFPMhX1w"
      }
    },
    {
      "cell_type": "code",
      "source": [
        "# Creating shallow copies of lists.\n",
        "original_list = [1, 2, 3, [40, 50]] # Contains a nested list\n",
        "print(\"Original list:\", original_list)\n",
        "\n",
        "# Method 1: Slicing\n",
        "copied_list_slice = original_list[:]\n",
        "\n",
        "# Modify the copied list (e.g., the slice copy)\n",
        "copied_list_slice[0] = 100\n",
        "print(\"After modifying copied_list_slice[0]:\")\n",
        "print(\"Original list:\", original_list)          # Output: [1, 2, 3, [40, 50]] (unchanged at top level)\n",
        "print(\"Copied list (slice):\", copied_list_slice)  # Output: [100, 2, 3, [40, 50]]\n",
        "\n",
        "# Check object identity\n",
        "print(\"original_list is copied_list_slice:\", original_list is copied_list_slice) # False\n",
        "\n",
        "# Important: For shallow copies, if the list contains other mutable objects (like a nested list),\n",
        "# the nested objects are still references to the same objects in both lists.\n",
        "copied_list_slice[3][0] = 999 # Modify the nested list via the copied list\n",
        "print(\"After modifying nested list in copied_list_slice:\")\n",
        "print(\"Original list:\", original_list) # Output: [1, 2, 3, [999, 50]] - nested list is changed!\n",
        "print(\"Copied list (slice):\", copied_list_slice)"
      ],
      "metadata": {
        "colab": {
          "base_uri": "https://localhost:8080/"
        },
        "id": "8i_kycOthZrz",
        "outputId": "b001c2e7-0646-4875-dade-612955438b6d"
      },
      "execution_count": 16,
      "outputs": [
        {
          "output_type": "stream",
          "name": "stdout",
          "text": [
            "Original list: [1, 2, 3, [40, 50]]\n",
            "After modifying copied_list_slice[0]:\n",
            "Original list: [1, 2, 3, [40, 50]]\n",
            "Copied list (slice): [100, 2, 3, [40, 50]]\n",
            "original_list is copied_list_slice: False\n",
            "After modifying nested list in copied_list_slice:\n",
            "Original list: [1, 2, 3, [999, 50]]\n",
            "Copied list (slice): [100, 2, 3, [999, 50]]\n"
          ]
        }
      ]
    },
    {
      "cell_type": "markdown",
      "source": [
        "For a completely independent copy, including all nested objects, use a **deep copy** from Python's `copy` module."
      ],
      "metadata": {
        "id": "LbbSgTUehbah"
      }
    },
    {
      "cell_type": "code",
      "source": [
        "# Creating deep copies of lists.\n",
        "import copy # Import the copy module\n",
        "\n",
        "original_nested_list = [1, [10, 20], 3]\n",
        "# Create a deep copy\n",
        "deep_copied_list = copy.deepcopy(original_nested_list)\n",
        "\n",
        "# Modify the nested list in the deep copy\n",
        "deep_copied_list[1][0] = 99\n",
        "print(\"Original nested list:\", original_nested_list) # Output: [1, [10, 20], 3]\n",
        "print(\"Deep copied list:\", deep_copied_list)       # Output: [1, [99, 20], 3]\n",
        "\n",
        "# Check object identity of nested lists\n",
        "print(\"original_nested_list[1] is deep_copied_list[1]:\", \\\n",
        "      original_nested_list[1] is deep_copied_list[1]) # Output: False"
      ],
      "metadata": {
        "colab": {
          "base_uri": "https://localhost:8080/"
        },
        "id": "JQHS1WvyhdVo",
        "outputId": "181e54a4-e78a-43db-853c-0c37256953af"
      },
      "execution_count": 17,
      "outputs": [
        {
          "output_type": "stream",
          "name": "stdout",
          "text": [
            "Original nested list: [1, [10, 20], 3]\n",
            "Deep copied list: [1, [99, 20], 3]\n",
            "original_nested_list[1] is deep_copied_list[1]: False\n"
          ]
        }
      ]
    },
    {
      "cell_type": "markdown",
      "source": [
        "<div class=\"alert alert-block alert-info\">\n",
        "    <b>Concept Check!</b>\n",
        "    <br>\n",
        "    <ul>\n",
        "        <li>Why is it useful to work with lists or arrays instead of many separate variables?</li>\n",
        "    </ul>\n",
        "</div>"
      ],
      "metadata": {
        "id": "GRQ-yph2hfHT"
      }
    },
    {
      "cell_type": "markdown",
      "source": [
        "## 2.4 Repeating Actions: Loops and the `range()` Function\n",
        "\n",
        "A `for` loop iterates over the items of a sequence. The `range()` function generates a sequence of numbers, which is ideal for looping a specific number of times."
      ],
      "metadata": {
        "id": "PzaZlie7hgvs"
      }
    },
    {
      "cell_type": "code",
      "source": [
        "# Iterating over a list with a for loop.\n",
        "rock_types = [\"basalt\", \"granite\", \"shale\"]\n",
        "\n",
        "# Iterate through the list and print each rock type\n",
        "for rock in rock_types:\n",
        "    print(\"Current rock type:\", rock)\n",
        "print(\"Finished iterating through rock_types.\")\n",
        "\n",
        "# Iterate through a string (which is a sequence of characters)\n",
        "magma_type = \"Rhyolite\"\n",
        "for char in magma_type:\n",
        "    print(char, end=\" \") # Print characters on the same line, separated by a space\n",
        "print(\"\\nFinished iterating through magma_type string.\")"
      ],
      "metadata": {
        "colab": {
          "base_uri": "https://localhost:8080/"
        },
        "id": "QQmYRqI_hikB",
        "outputId": "5d3187be-7bdb-4c6c-870a-79796b950372"
      },
      "execution_count": 18,
      "outputs": [
        {
          "output_type": "stream",
          "name": "stdout",
          "text": [
            "Current rock type: basalt\n",
            "Current rock type: granite\n",
            "Current rock type: shale\n",
            "Finished iterating through rock_types.\n",
            "R h y o l i t e \n",
            "Finished iterating through magma_type string.\n"
          ]
        }
      ]
    },
    {
      "cell_type": "code",
      "source": [
        "# Using the range() function in for loops.\n",
        "# Loop 5 times (indices 0, 1, 2, 3, 4)\n",
        "print(\"Looping with range(5):\")\n",
        "for i in range(5):\n",
        "    print(i)\n",
        "\n",
        "# Loop from 2 up to (not including) 6\n",
        "print(\"\\nLooping with range(2, 6):\")\n",
        "for num in range(2, 6):\n",
        "    print(num)\n",
        "\n",
        "# Loop from 10 down to (not including) 0, with a step of -2\n",
        "print(\"\\nLooping with range(10, 0, -2):\")\n",
        "for k in range(10, 0, -2):\n",
        "    print(k)\n",
        "\n",
        "# Using range to access list elements by index (though direct iteration is often more Pythonic)\n",
        "values = [100, 200, 300, 400]\n",
        "print(\"\\nAccessing list elements using range(len(list)):\")\n",
        "for index in range(len(values)): # len(values) is 4, so range(4) gives 0, 1, 2, 3\n",
        "    print(f\"Element at index {index} is {values[index]}\")"
      ],
      "metadata": {
        "colab": {
          "base_uri": "https://localhost:8080/"
        },
        "id": "-UUX-irAhkWl",
        "outputId": "d7e904a4-e577-45b7-bdb4-292c03a73a4a"
      },
      "execution_count": 19,
      "outputs": [
        {
          "output_type": "stream",
          "name": "stdout",
          "text": [
            "Looping with range(5):\n",
            "0\n",
            "1\n",
            "2\n",
            "3\n",
            "4\n",
            "\n",
            "Looping with range(2, 6):\n",
            "2\n",
            "3\n",
            "4\n",
            "5\n",
            "\n",
            "Looping with range(10, 0, -2):\n",
            "10\n",
            "8\n",
            "6\n",
            "4\n",
            "2\n",
            "\n",
            "Accessing list elements using range(len(list)):\n",
            "Element at index 0 is 100\n",
            "Element at index 1 is 200\n",
            "Element at index 2 is 300\n",
            "Element at index 3 is 400\n"
          ]
        }
      ]
    },
    {
      "cell_type": "markdown",
      "source": [
        "## 2.5 Essential Libraries for Scientific Computing\n",
        "\n",
        "### 2.5.1 NumPy: Numerical Computing with Arrays\n",
        "**NumPy** is the cornerstone library for numerical work in Python, providing the powerful N-dimensional array object, `ndarray`. NumPy arrays are more performant and memory-efficient for numerical tasks than Python lists because they are typed and support **vectorized operations**."
      ],
      "metadata": {
        "id": "iue7hhQphmBM"
      }
    },
    {
      "cell_type": "code",
      "source": [
        "# Importing the NumPy library.\n",
        "import numpy as np"
      ],
      "metadata": {
        "id": "xrbkBdMShnvR"
      },
      "execution_count": null,
      "outputs": []
    },
    {
      "cell_type": "markdown",
      "source": [
        "#### Creating NumPy Arrays\n",
        "Arrays can be created from lists or using specialized NumPy functions."
      ],
      "metadata": {
        "id": "vdvzoly-hpOx"
      }
    },
    {
      "cell_type": "code",
      "source": [
        "# Creating NumPy arrays from Python lists.\n",
        "import numpy as np\n",
        "\n",
        "# From a 1D Python list\n",
        "py_list_1d = [1, 2, 3, 4, 5]\n",
        "np_array_1d = np.array(py_list_1d)\n",
        "print(\"1D NumPy array:\", np_array_1d)\n",
        "print(\"Type of array:\", type(np_array_1d)) # Output: <class 'numpy.ndarray'>\n",
        "print(\"Data type of elements:\", np_array_1d.dtype) # Output: int64 (depends on system)\n",
        "\n",
        "# From a 2D Python list (list of lists)\n",
        "py_list_2d = [[1.0, 2.0, 3.0], [4.0, 5.0, 6.0]]\n",
        "np_array_2d = np.array(py_list_2d)\n",
        "print(\"\\n2D NumPy array:\\n\", np_array_2d)\n",
        "print(\"Data type of elements:\", np_array_2d.dtype) # Output: float64"
      ],
      "metadata": {
        "colab": {
          "base_uri": "https://localhost:8080/"
        },
        "id": "wDr_t5oThrJW",
        "outputId": "fad0f290-4137-4e1a-826d-80cfc5ebfcb0"
      },
      "execution_count": 20,
      "outputs": [
        {
          "output_type": "stream",
          "name": "stdout",
          "text": [
            "1D NumPy array: [1 2 3 4 5]\n",
            "Type of array: <class 'numpy.ndarray'>\n",
            "Data type of elements: int64\n",
            "\n",
            "2D NumPy array:\n",
            " [[1. 2. 3.]\n",
            " [4. 5. 6.]]\n",
            "Data type of elements: float64\n"
          ]
        }
      ]
    },
    {
      "cell_type": "code",
      "source": [
        "# Creating NumPy arrays using built-in functions.\n",
        "import numpy as np\n",
        "\n",
        "# Array of zeros\n",
        "zeros_array = np.zeros(5)\n",
        "print(\"Zeros array:\", zeros_array)\n",
        "\n",
        "# Array of ones, 2x3 shape, integer type\n",
        "ones_array_int = np.ones((2, 3), dtype=int)\n",
        "print(\"\\nOnes array (2x3, int):\\n\", ones_array_int)\n",
        "\n",
        "# Array using arange (0, 1, 2, 3, 4)\n",
        "arange_array = np.arange(0, 5, 1)\n",
        "print(\"\\nArange array:\", arange_array)\n",
        "\n",
        "# Array using linspace (5 points from 0 to 1, inclusive)\n",
        "linspace_array = np.linspace(0, 1, 5)\n",
        "print(\"\\nLinspace array:\", linspace_array)\n",
        "\n",
        "# 2x2 array of random numbers (uniform distribution [0,1))\n",
        "random_array = np.random.rand(2, 2)\n",
        "print(\"\\nRandom array (2x2):\\n\", random_array)"
      ],
      "metadata": {
        "colab": {
          "base_uri": "https://localhost:8080/"
        },
        "id": "5Ozz-Cdyhs49",
        "outputId": "a4914222-c971-4286-9f56-f10112cf8256"
      },
      "execution_count": 21,
      "outputs": [
        {
          "output_type": "stream",
          "name": "stdout",
          "text": [
            "Zeros array: [0. 0. 0. 0. 0.]\n",
            "\n",
            "Ones array (2x3, int):\n",
            " [[1 1 1]\n",
            " [1 1 1]]\n",
            "\n",
            "Arange array: [0 1 2 3 4]\n",
            "\n",
            "Linspace array: [0.   0.25 0.5  0.75 1.  ]\n",
            "\n",
            "Random array (2x2):\n",
            " [[0.76400805 0.92952353]\n",
            " [0.69254143 0.88441075]]\n"
          ]
        }
      ]
    },
    {
      "cell_type": "markdown",
      "source": [
        "#### NumPy Array Attributes\n",
        "Arrays have several useful attributes for retrieving information."
      ],
      "metadata": {
        "id": "X4oFAo8rhuUN"
      }
    },
    {
      "cell_type": "code",
      "source": [
        "# Accessing NumPy array attributes.\n",
        "import numpy as np\n",
        "\n",
        "# Create a 2D array (3 rows, 4 columns)\n",
        "arr = np.array([[1, 2, 3, 4],\n",
        "                [5, 6, 7, 8],\n",
        "                [9, 10, 11, 12]], dtype=np.int16)\n",
        "\n",
        "print(\"Array arr:\\n\", arr)\n",
        "print(\"Number of dimensions (ndim):\", arr.ndim)    # Output: 2\n",
        "print(\"Shape of array (shape):\", arr.shape)      # Output: (3, 4)\n",
        "print(\"Total number of elements (size):\", arr.size)    # Output: 12\n",
        "print(\"Data type of elements (dtype):\", arr.dtype)  # Output: int16\n",
        "print(\"Size of each element in bytes (itemsize):\", arr.itemsize) # Output: 2 (for int16)\n",
        "print(\"Total bytes consumed by elements (nbytes):\", arr.nbytes) # Output: 24"
      ],
      "metadata": {
        "colab": {
          "base_uri": "https://localhost:8080/"
        },
        "id": "8GAMRMbJhv6y",
        "outputId": "f6f67ee6-89c9-46e7-84cb-9b929b7cf263"
      },
      "execution_count": 22,
      "outputs": [
        {
          "output_type": "stream",
          "name": "stdout",
          "text": [
            "Array arr:\n",
            " [[ 1  2  3  4]\n",
            " [ 5  6  7  8]\n",
            " [ 9 10 11 12]]\n",
            "Number of dimensions (ndim): 2\n",
            "Shape of array (shape): (3, 4)\n",
            "Total number of elements (size): 12\n",
            "Data type of elements (dtype): int16\n",
            "Size of each element in bytes (itemsize): 2\n",
            "Total bytes consumed by elements (nbytes): 24\n"
          ]
        }
      ]
    },
    {
      "cell_type": "markdown",
      "source": [
        "#### Basic Operations: Vectorization\n",
        "**Vectorization** allows applying operations to entire arrays at once, which is fast and efficient."
      ],
      "metadata": {
        "id": "aIf67Hx0hxlt"
      }
    },
    {
      "cell_type": "code",
      "source": [
        "# Vectorized arithmetic operations with NumPy arrays.\n",
        "import numpy as np\n",
        "\n",
        "a = np.array([1, 2, 3, 4])\n",
        "b = np.array([10, 20, 30, 40])\n",
        "\n",
        "print(\"Array a:\", a)\n",
        "print(\"Array b:\", b)\n",
        "\n",
        "# Element-wise addition\n",
        "sum_ab = a + b\n",
        "print(\"a + b =\", sum_ab)  # Output: [11 22 33 44]\n",
        "\n",
        "# Element-wise multiplication\n",
        "prod_ab = a * b\n",
        "print(\"a * b =\", prod_ab) # Output: [ 10  40  90 160]\n",
        "\n",
        "# Scalar multiplication (broadcasts the scalar to all elements)\n",
        "mult_by_scalar = a * 2\n",
        "print(\"a * 2 =\", mult_by_scalar) # Output: [2 4 6 8]\n",
        "\n",
        "# Element-wise squaring\n",
        "squared_a = a**2\n",
        "print(\"a ** 2 =\", squared_a) # Output: [ 1  4  9 16]\n",
        "\n",
        "# Universal functions (ufuncs) like np.sin, np.exp also operate element-wise\n",
        "angles = np.array([0, np.pi/2, np.pi])\n",
        "sines = np.sin(angles)\n",
        "print(\"\\nsin(angles):\", sines) # Output: [0.0000000e+00 1.0000000e+00 1.2246468e-16] (approx 0, 1, 0)"
      ],
      "metadata": {
        "colab": {
          "base_uri": "https://localhost:8080/"
        },
        "id": "ar1Ms-qjhzc3",
        "outputId": "e115045d-3132-424e-fc18-978852bccd98"
      },
      "execution_count": 23,
      "outputs": [
        {
          "output_type": "stream",
          "name": "stdout",
          "text": [
            "Array a: [1 2 3 4]\n",
            "Array b: [10 20 30 40]\n",
            "a + b = [11 22 33 44]\n",
            "a * b = [ 10  40  90 160]\n",
            "a * 2 = [2 4 6 8]\n",
            "a ** 2 = [ 1  4  9 16]\n",
            "\n",
            "sin(angles): [0.0000000e+00 1.0000000e+00 1.2246468e-16]\n"
          ]
        }
      ]
    },
    {
      "cell_type": "markdown",
      "source": [
        "### 2.5.2 Matplotlib: Visualizing Data\n",
        "**Matplotlib** is the standard library for creating plots and visualizations in Python. We typically import its `pyplot` module."
      ],
      "metadata": {
        "id": "TgKto171h05U"
      }
    },
    {
      "cell_type": "code",
      "source": [
        "# Importing the Matplotlib pyplot module.\n",
        "import matplotlib.pyplot as plt"
      ],
      "metadata": {
        "id": "_Uz3wZLYh2sv"
      },
      "execution_count": 24,
      "outputs": []
    },
    {
      "cell_type": "code",
      "source": [
        "# A basic line plot using Matplotlib pyplot.\n",
        "import matplotlib.pyplot as plt\n",
        "import numpy as np # Often used with Matplotlib for data generation\n",
        "\n",
        "# Data for plotting\n",
        "x_values = np.array([0, 1, 2, 3, 4, 5])\n",
        "y_values = np.array([0, 1, 4, 9, 16, 25]) # y = x^2\n",
        "\n",
        "# Create the plot\n",
        "plt.plot(x_values, y_values)\n",
        "\n",
        "# Add labels and a title\n",
        "plt.xlabel(\"X-axis Label (e.g., Time)\")\n",
        "plt.ylabel(\"Y-axis Label (e.g., Value)\")\n",
        "plt.title(\"Simple Plot: y = x^2\")\n",
        "\n",
        "# Add a grid (optional, but often helpful)\n",
        "plt.grid(True)\n",
        "\n",
        "# Display the plot\n",
        "plt.show() # This command renders and displays the plot window"
      ],
      "metadata": {
        "colab": {
          "base_uri": "https://localhost:8080/",
          "height": 472
        },
        "id": "rdFNNPiah4fU",
        "outputId": "17a76906-31f0-4ded-ace3-a808847de14e"
      },
      "execution_count": 25,
      "outputs": [
        {
          "output_type": "display_data",
          "data": {
            "text/plain": [
              "<Figure size 640x480 with 1 Axes>"
            ],
            "image/png": "[encoded data removed]"
          },
          "metadata": {}
        }
      ]
    },
    {
      "cell_type": "markdown",
      "source": [
        "#### Plotting an Analytical ODE Solution\n",
        "Let's combine NumPy and Matplotlib to plot the analytical solution to Newton's Law of Cooling:\n",
        "$T(t) = T_{\\text{env}} + (T_0 - T_{\\text{env}}) e^{-kt}$"
      ],
      "metadata": {
        "id": "CNejJHAOh6OU"
      }
    },
    {
      "cell_type": "code",
      "source": [
        "# Plotting the analytical solution of Newton's cooling law.\n",
        "import numpy as np\n",
        "import matplotlib.pyplot as plt\n",
        "\n",
        "# Parameters for Newton's cooling law\n",
        "T_env = 20.0  # Ambient temperature (deg C)\n",
        "T0 = 90.0     # Initial temperature of the body (deg C)\n",
        "k_coeff = 0.05  # Cooling coefficient (e.g., 1/min)\n",
        "\n",
        "# Time array for plotting (e.g., from 0 to 60 minutes)\n",
        "time_array = np.linspace(0, 60, 300) # 300 points for a smooth curve\n",
        "\n",
        "# Calculate the temperature using the analytical solution\n",
        "Temperature_analytical = T_env + (T0 - T_env) * np.exp(-k_coeff * time_array)\n",
        "\n",
        "# Create the plot\n",
        "plt.figure(figsize=(8, 5)) # Optional: set figure size\n",
        "plt.plot(time_array, Temperature_analytical, label=\"Analytical Solution\", color=\"blue\")\n",
        "\n",
        "# Add labels, title, legend, and grid\n",
        "plt.xlabel(\"Time (minutes)\")\n",
        "plt.ylabel(\"Temperature (deg C)\")\n",
        "plt.title(\"Newton's Law of Cooling: Analytical Solution\")\n",
        "plt.legend()\n",
        "plt.grid(True)\n",
        "\n",
        "# Display the plot\n",
        "plt.show()"
      ],
      "metadata": {
        "colab": {
          "base_uri": "https://localhost:8080/",
          "height": 487
        },
        "id": "d0Z8TLZoh7-P",
        "outputId": "feb84d38-ba42-4797-dda5-66cc4130f925"
      },
      "execution_count": 26,
      "outputs": [
        {
          "output_type": "display_data",
          "data": {
            "text/plain": [
              "<Figure size 800x500 with 1 Axes>"
            ],
            "image/png": "[encoded data removed]"
          },
          "metadata": {}
        }
      ]
    },
    {
      "cell_type": "markdown",
      "source": [
        "## Chapter Exercises\n",
        "\n",
        "Test your understanding of the concepts covered in this chapter with the following exercises."
      ],
      "metadata": {
        "id": "VwmHLA1ajx5L"
      }
    },
    {
      "cell_type": "markdown",
      "source": [
        "### E1: Classifying Differential Equations\n",
        "\n",
        "For each of the following differential equations, classify it by stating:\n",
        "1.  Whether it is an Ordinary Differential Equation (ODE) or a Partial Differential Equation (PDE).\n",
        "2.  Its order.\n",
        "3.  Whether it is linear or nonlinear. Justify your answer for linearity/nonlinearity briefly.\n",
        "\n",
        "(a) $\\frac{d^2y}{dx^2} + 2x \\frac{dy}{dx} + y = \\sin(x)$\n",
        "\n",
        "(b) $\\frac{\\partial u}{\\partial t} + u \\frac{\\partial u}{\\partial x} = \\nu \\frac{\\partial^2 u}{\\partial x^2}$ (Burgers' equation, $\\nu$ is constant)\n",
        "\n",
        "(c) $\\frac{dT}{dt} = -k(T^4 - T_s^4)$ (Stefan-Boltzmann law for radiative cooling, $k, T_s$ are constants)\n",
        "\n",
        "(d) $\\frac{\\partial^2 P}{\\partial x^2} + \\frac{\\partial^2 P}{\\partial y^2} = F(x,y)$ (Poisson's equation for pressure $P$, $F(x,y)$ is a known source term)\n",
        "\n",
        "(e) $L \\frac{dI}{dt} + R I = V(t)$ (RL circuit equation for current $I$, $L, R$ constants, $V(t)$ known voltage)\n",
        "\n",
        "(f) $\\frac{\\partial N}{\\partial t} = D \\frac{\\partial^2 N}{\\partial x^2} - \\lambda N^2$ (Reaction-diffusion equation with a nonlinear reaction term, $D, \\lambda$ constants)"
      ],
      "metadata": {
        "id": "ppWX-cq8j1VS"
      }
    },
    {
      "cell_type": "markdown",
      "source": [
        "*Write your answers for E1 in this Markdown cell. Double-click to edit.*\n",
        "\n",
        "**(a)**\n",
        "- **Type:**\n",
        "- **Order:**\n",
        "- **Linearity:**\n",
        "\n",
        "**(b)**\n",
        "- **Type:**\n",
        "- **Order:**\n",
        "- **Linearity:**\n",
        "\n",
        "**(c)**\n",
        "- **Type:**\n",
        "- **Order:**\n",
        "- **Linearity:**\n",
        "\n",
        "**(d)**\n",
        "- **Type:**\n",
        "- **Order:**\n",
        "- **Linearity:**\n",
        "\n",
        "**(e)**\n",
        "- **Type:**\n",
        "- **Order:**\n",
        "- **Linearity:**\n",
        "\n",
        "**(f)**\n",
        "- **Type:**\n",
        "- **Order:**\n",
        "- **Linearity:**"
      ],
      "metadata": {
        "id": "jzCc32suj4r8"
      }
    },
    {
      "cell_type": "markdown",
      "source": [
        "### E2: Python List Manipulations and Loops\n",
        "\n",
        "Consider the following list representing depths (in meters) where rock samples were collected:\n",
        "`depths = [10.5, 22.1, 15.0, 33.5, 8.2, 25.0, 19.7]`\n",
        "\n",
        "Write Python code snippets to:\n",
        "1.  Print the depth of the second sample collected.\n",
        "2.  Print the last three depths using slicing with negative indices.\n",
        "3.  Create a new list called `shallowSamples` containing only depths less than 20 meters. (Hint: You might use a `for` loop and an `if` statement).\n",
        "4.  Calculate and print the average depth of all samples. (Hint: Sum all elements and divide by the number of elements. You can use a `for` loop to sum).\n",
        "5.  Create a new list where each depth is converted from meters to feet (1 meter ≈ 3.28084 feet). Print the new list. Use a `for` loop."
      ],
      "metadata": {
        "id": "i-jBnUQEj7Si"
      }
    },
    {
      "cell_type": "code",
      "source": [
        "# Your code for E2 here\n",
        "depths = [10.5, 22.1, 15.0, 33.5, 8.2, 25.0, 19.7]\n",
        "print(f\"Original list of depths: {depths}\\n\")\n",
        "\n",
        "# 1. Print the depth of the second sample collected.\n",
        "second_sample_depth = depths[1]\n",
        "print(f\"1. Depth of second sample: {second_sample_depth}\")\n",
        "\n",
        "# 2. Print the last three depths using slicing with negative indices.\n",
        "last_three_depths = depths[-3:]\n",
        "print(f\"2. Last three depths: {last_three_depths}\")\n",
        "\n",
        "# 3. Create a new list called `shallowSamples` containing only depths less than 20 meters.\n",
        "shallowSamples = []\n",
        "for depth in depths:\n",
        "    if depth < 20:\n",
        "        shallowSamples.append(depth)\n",
        "print(f\"3. Shallow samples (< 20m): {shallowSamples}\")\n",
        "\n",
        "# 4. Calculate and print the average depth of all samples.\n",
        "total_depth = 0\n",
        "for depth in depths:\n",
        "    total_depth += depth\n",
        "average_depth = total_depth / len(depths)\n",
        "print(f\"4. Average depth: {average_depth:.2f} m\")\n",
        "\n",
        "# 5. Create a new list where each depth is converted from meters to feet.\n",
        "depths_in_feet = []\n",
        "m_to_ft = 3.28084\n",
        "for depth in depths:\n",
        "    depths_in_feet.append(depth * m_to_ft)\n",
        "print(f\"5. Depths in feet: {depths_in_feet}\")"
      ],
      "metadata": {
        "id": "hFNK6LbDkC-5"
      },
      "execution_count": null,
      "outputs": []
    },
    {
      "cell_type": "markdown",
      "source": [
        "### E3: NumPy Array Operations\n",
        "\n",
        "Perform the following tasks using NumPy:\n",
        "1.  Create a NumPy array named `porosityValues` from the Python list `[0.12, 0.15, 0.08, 0.21, 0.17]`. Print the array, its shape, and its data type.\n",
        "2.  Create a 1D NumPy array named `xCoordinates` containing 50 equally spaced points from -5.0 to 5.0 (inclusive).\n",
        "3.  Create a 4x2 NumPy array named `matrixB` filled with the constant value 7.5.\n",
        "4.  Given the arrays `vec1 = np.array([0.1, 0.2, 0.3, 0.4])` and `vec2 = np.array([10.0, 20.0, 30.0, 40.0])`:\n",
        "    -   Calculate and print `vec1` multiplied by `vec2` (element-wise).\n",
        "    -   Calculate and print the sine of each element in `vec1`.\n",
        "    -   Calculate and print `vec2` minus 5.\n",
        "5.  Create a 1D NumPy array of 10 random integers between 1 and 100 (inclusive). (Hint: look into `np.random.randint()`)."
      ],
      "metadata": {
        "id": "jF7S_IFakE34"
      }
    },
    {
      "cell_type": "code",
      "source": [
        "# Your code for E3 here\n",
        "import numpy as np\n",
        "\n",
        "# 1. Create porosityValues array\n",
        "print(\"--- Task 1 ---\")\n",
        "porosity_list = [0.12, 0.15, 0.08, 0.21, 0.17]\n",
        "porosityValues = np.array(porosity_list)\n",
        "print(f\"Array: {porosityValues}\")\n",
        "print(f\"Shape: {porosityValues.shape}\")\n",
        "print(f\"Data type: {porosityValues.dtype}\")\n",
        "\n",
        "# 2. Create xCoordinates array\n",
        "print(\"\\n--- Task 2 ---\")\n",
        "xCoordinates = np.linspace(-5.0, 5.0, 50)\n",
        "print(f\"Created xCoordinates array with {len(xCoordinates)} points.\")\n",
        "print(f\"First 5 values: {xCoordinates[:5]}\")\n",
        "\n",
        "# 3. Create matrixB\n",
        "print(\"\\n--- Task 3 ---\")\n",
        "matrixB = np.full((4, 2), 7.5)\n",
        "print(\"Matrix B:\\n\", matrixB)\n",
        "\n",
        "# 4. Vector operations\n",
        "print(\"\\n--- Task 4 ---\")\n",
        "vec1 = np.array([0.1, 0.2, 0.3, 0.4])\n",
        "vec2 = np.array([10.0, 20.0, 30.0, 40.0])\n",
        "print(f\"vec1 * vec2 = {vec1 * vec2}\")\n",
        "print(f\"sin(vec1) = {np.sin(vec1)}\")\n",
        "print(f\"vec2 - 5 = {vec2 - 5}\")\n",
        "\n",
        "# 5. Random integers\n",
        "print(\"\\n--- Task 5 ---\")\n",
        "# randint's upper bound is exclusive, so we use 101 to include 100.\n",
        "random_integers = np.random.randint(1, 101, 10)\n",
        "print(f\"10 random integers between 1 and 100: {random_integers}\")"
      ],
      "metadata": {
        "id": "5-z4c3SNkGmW"
      },
      "execution_count": null,
      "outputs": []
    },
    {
      "cell_type": "markdown",
      "source": [
        "### E4: Basic Plotting with Matplotlib\n",
        "\n",
        "1.  **Plotting a Geothermal Gradient:**\n",
        "    Assume a simplified linear geothermal gradient where temperature $T$ increases with depth $z$ according to $T(z) = T_{surface} + G \\cdot z$, where $T_{surface} = 15^\\circ C$ and the geothermal gradient $G = 0.025^\\circ C/meter$.\n",
        "    -   Create a NumPy array for depths `zValues` from 0 to 2000 meters.\n",
        "    -   Calculate the corresponding temperatures `Tvalues`.\n",
        "    -   Use Matplotlib to create a line plot of Temperature vs. Depth.\n",
        "    -   Label your axes and add a title and grid.\n",
        "\n",
        "2.  **Multiple Functions on One Plot (using a loop):**\n",
        "    You want to plot the functions $y = x^p$ for $p=1, 2, 3$ on the same graph, for $x$ ranging from 0 to 4.\n",
        "    -   Create a NumPy array `xVals` for the x-axis.\n",
        "    -   Create a list of powers: `powers = [1, 2, 3]`.\n",
        "    -   Use a `for` loop to iterate and plot each curve, adding a label for each one.\n",
        "    -   Add a title, axis labels, a legend, and a grid."
      ],
      "metadata": {
        "id": "WMokWLXqkINC"
      }
    },
    {
      "cell_type": "code",
      "source": [
        "# Your code for E4, Part 1: Geothermal Gradient\n",
        "import matplotlib.pyplot as plt\n",
        "import numpy as np\n",
        "\n",
        "print(\"--- Plot 1: Geothermal Gradient ---\")\n",
        "# Parameters\n",
        "T_surface = 15.0  # degrees C\n",
        "G = 0.025         # degrees C / meter\n",
        "\n",
        "# Create depth and temperature arrays\n",
        "zValues = np.linspace(0, 2000, 100)\n",
        "Tvalues = T_surface + G * zValues\n",
        "\n",
        "# Create the plot\n",
        "plt.figure(figsize=(8, 6))\n",
        "plt.plot(zValues, Tvalues, color='red')\n",
        "\n",
        "# Add labels, title, and grid\n",
        "plt.xlabel(\"Depth (m)\")\n",
        "plt.ylabel(\"Temperature (°C)\")\n",
        "plt.title(\"Simplified Linear Geothermal Gradient\")\n",
        "plt.grid(True)\n",
        "# Invert the y-axis to show depth increasing downwards, as is conventional\n",
        "plt.gca().invert_yaxis()\n",
        "plt.show()"
      ],
      "metadata": {
        "id": "rlTl7koZkKHx"
      },
      "execution_count": null,
      "outputs": []
    },
    {
      "cell_type": "code",
      "source": [
        "# Your code for E4, Part 2: Multiple Functions\n",
        "import matplotlib.pyplot as plt\n",
        "import numpy as np\n",
        "\n",
        "print(\"\\n--- Plot 2: y = x^p ---\")\n",
        "# Create x-axis values and list of powers\n",
        "xVals = np.linspace(0, 4, 100)\n",
        "powers = [1, 2, 3]\n",
        "\n",
        "# Create the plot\n",
        "plt.figure(figsize=(8, 6))\n",
        "\n",
        "# Loop through the powers and plot each function\n",
        "for p in powers:\n",
        "    yVals = xVals**p\n",
        "    plt.plot(xVals, yVals, label=f'y = x^{p}')\n",
        "\n",
        "# Add labels, title, legend, and grid\n",
        "plt.xlabel(\"x\")\n",
        "plt.ylabel(\"y\")\n",
        "plt.title(\"Plot of y = x^p for p=1, 2, 3\")\n",
        "plt.legend()\n",
        "plt.grid(True)\n",
        "plt.show()"
      ],
      "metadata": {
        "id": "mgKHhYtJkLvn"
      },
      "execution_count": null,
      "outputs": []
    }
  ]
}