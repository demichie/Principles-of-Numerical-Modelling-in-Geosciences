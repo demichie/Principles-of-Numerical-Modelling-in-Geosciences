{
  "nbformat": 4,
  "nbformat_minor": 0,
  "metadata": {
    "colab": {
      "provenance": [],
      "authorship_tag": "ABX9TyMrZzXFLuC9A5FYw0b5qeuU",
      "include_colab_link": true
    },
    "kernelspec": {
      "name": "python3",
      "display_name": "Python 3"
    },
    "language_info": {
      "name": "python"
    }
  },
  "cells": [
    {
      "cell_type": "markdown",
      "metadata": {
        "id": "view-in-github",
        "colab_type": "text"
      },
      "source": [
        "<a href=\"https://colab.research.google.com/github/demichie/Principles-of-Numerical-Modelling-in-Geosciences/blob/main/Chapter4.ipynb\" target=\"_parent\"><img src=\"https://colab.research.google.com/assets/colab-badge.svg\" alt=\"Open In Colab\"/></a>"
      ]
    },
    {
      "cell_type": "markdown",
      "source": [
        "# Chapter 4: Approximating Spatial Derivatives: The Finite Difference Method\n",
        "\n",
        "In the preceding chapters, we focused on Ordinary Differential Equations (ODEs). However, many phenomena in the Earth sciences vary in both space and time, leading us to the realm of Partial Differential Equations (PDEs).\n",
        "\n",
        "A crucial step in numerically solving PDEs is the ability to approximate spatial derivatives. This chapter introduces the foundational concepts of the **Finite Difference Method (FDM)** for spatial derivatives, focusing on their derivation via Taylor series expansions, their implementation in Python, and the analysis of their numerical accuracy."
      ],
      "metadata": {
        "id": "rgFTbV11rUGY"
      }
    },
    {
      "cell_type": "markdown",
      "source": [
        "## 4.1 From Time Derivatives to Spatial Derivatives: A Unified Concept\n",
        "\n",
        "We have already used finite differences to discretize the time derivative $\\frac{dy}{dt}$. For PDEs, we encounter derivatives with respect to spatial variables (e.g., $x$, $y$, $z$). The approach to approximating these is analogous:\n",
        "\n",
        "1.  We establish a **spatial grid**, a set of discrete points (nodes) $x_0, x_1, \\dots, x_i, \\dots$ separated by a grid spacing $\\Delta x$.\n",
        "2.  We replace continuous spatial derivatives (e.g., $\\frac{\\partial \\phi}{\\partial x}$ at $x_i$) with algebraic formulas using the values of the function at these discrete grid points (e.g., $\\phi_i = \\phi(x_i)$, $\\phi_{i+1} = \\phi(x_{i+1})$).\n",
        "\n",
        "This process is the essence of the Finite Difference Method."
      ],
      "metadata": {
        "id": "-pqTjqFJrVxY"
      }
    },
    {
      "cell_type": "markdown",
      "source": [
        "## 4.2 The Finite Difference Method (FDM) for First Derivatives\n",
        "\n",
        "Let's consider a function $q(x)$ on a uniform 1D grid. Our goal is to approximate the first derivative, $\\left( \\frac{dq}{dx} \\right)_{x_i}$, at a generic grid point $x_i$.\n",
        "\n",
        "### 4.2.1 Forward Difference Scheme\n",
        "The **forward difference** approximation uses the current node $x_i$ and the next node \"downstream\", $x_{i+1}$.\n",
        "$$\n",
        "\\left( \\frac{dq}{dx} \\right)_{x_i} \\approx \\frac{ q(x_{i}+\\Delta x) - q(x_i)}{\\Delta x} = \\frac{ q_{i+1} - q_i }{\\Delta x}\n",
        "$$\n",
        "\n",
        "### 4.2.2 Backward Difference Scheme\n",
        "The **backward difference** approximation uses the current node $x_i$ and the previous node \"upstream\", $x_{i-1}$.\n",
        "$$\n",
        "\\left( \\frac{dq}{dx} \\right)_{x_i} \\approx \\frac{ q(x_{i}) - q(x_i-\\Delta x)}{\\Delta x} = \\frac{ q_{i} - q_{i-1} }{\\Delta x}\n",
        "$$\n",
        "\n",
        "### 4.2.3 Central Difference Scheme\n",
        "The **central difference** approximation uses values from nodes on both sides of $x_i$. It is typically more accurate.\n",
        "$$\n",
        "\\left( \\frac{dq}{dx} \\right)_{x_i} \\approx \\frac{ q(x_{i+1}) - q(x_{i-1})}{2\\Delta x} = \\frac{ q_{i+1} - q_{i-1} }{2\\Delta x}\n",
        "$$"
      ],
      "metadata": {
        "id": "9azHMxJ0rYgu"
      }
    },
    {
      "cell_type": "markdown",
      "source": [
        "## 4.3 Accuracy of Finite Difference Schemes: Truncation Error\n",
        "\n",
        "The difference between the true derivative and its finite difference approximation is known as the **truncation error**. It arises because these formulas are derived by truncating an infinite **Taylor series expansion**.\n",
        "\n",
        "### 4.3.1 Taylor Series Expansion: The Foundation for Error Analysis\n",
        "The Taylor series allows us to express the value of a function at a nearby point ($x_i + h$) using its value and derivatives at $x_i$:\n",
        "$$\n",
        "q(x_i + h) = q(x_i) + h \\left( \\frac{dq}{dx} \\right)_{x_i} + \\frac{h^2}{2!} \\left( \\frac{d^2q}{dx^2} \\right)_{x_i} + \\frac{h^3}{3!} \\left( \\frac{d^3q}{dx^3} \\right)_{x_i} + \\dots\n",
        "$$\n",
        "By rearranging this expansion, we can derive the finite difference formulas and, more importantly, quantify the error we make by truncating the series."
      ],
      "metadata": {
        "id": "hPALTzrJraX8"
      }
    },
    {
      "cell_type": "markdown",
      "source": [
        "<div class=\"alert alert-block alert-info\">\n",
        "    <b>Concept Check!</b>\n",
        "    <br>\n",
        "    The Taylor series expresses $q(x_i+h)$ as a polynomial in $h$. If you differentiate this polynomial with respect to $h$ and then set $h=0$, what is the result? What if you do this $k$ times?\n",
        "</div>"
      ],
      "metadata": {
        "id": "wK1lkUYXrcKy"
      }
    },
    {
      "cell_type": "markdown",
      "source": [
        "### 4.3.2 Truncation Error of the Schemes\n",
        "\n",
        "By manipulating the Taylor series, we can find the error for each scheme.\n",
        "\n",
        "- **Forward Difference:**\n",
        "  $$ \\frac{q_{i+1} - q_i}{\\Delta x} = \\left( \\frac{dq}{dx} \\right)_{x_i} + \\underbrace{\\frac{\\Delta x}{2} \\left( \\frac{d^2q}{dx^2} \\right)_{x_i} + \\mathcal{O}(\\Delta x^2)}_{\\text{Truncation Error}} $$\n",
        "  The leading error term is proportional to $\\Delta x^1$, so the scheme is **first-order accurate**, $\\mathcal{O}(\\Delta x)$.\n",
        "\n",
        "- **Backward Difference:**\n",
        "  $$ \\frac{q_i - q_{i-1}}{\\Delta x} = \\left( \\frac{dq}{dx} \\right)_{x_i} - \\underbrace{\\frac{\\Delta x}{2} \\left( \\frac{d^2q}{dx^2} \\right)_{x_i} + \\mathcal{O}(\\Delta x^2)}_{\\text{Truncation Error}} $$\n",
        "  This scheme is also **first-order accurate**, $\\mathcal{O}(\\Delta x)$.\n",
        "\n",
        "- **Central Difference:**\n",
        "  $$ \\frac{q_{i+1} - q_{i-1}}{2\\Delta x} = \\left( \\frac{dq}{dx} \\right)_{x_i} + \\underbrace{\\frac{\\Delta x^2}{6} \\left( \\frac{d^3q}{dx^3} \\right)_{x_i} + \\mathcal{O}(\\Delta x^4)}_{\\text{Truncation Error}} $$\n",
        "  The leading error term is proportional to $\\Delta x^2$, making the scheme **second-order accurate**, $\\mathcal{O}(\\Delta x^2)$. This means it generally converges to the true solution much faster as $\\Delta x$ is reduced."
      ],
      "metadata": {
        "id": "FDfr3bAJreP3"
      }
    },
    {
      "cell_type": "markdown",
      "source": [
        "## 4.4 Practical Examples and Numerical Verification of Order\n",
        "\n",
        "We can numerically verify these orders of accuracy by applying the schemes to functions with known analytical derivatives.\n",
        "\n",
        "### 4.4.1 Printing Formatted Output in Python: f-strings\n",
        "**f-strings** are a modern and convenient way to format strings in Python by embedding variables directly within curly braces `{}`."
      ],
      "metadata": {
        "id": "CgqRlh9Mrf5u"
      }
    },
    {
      "cell_type": "code",
      "source": [
        "rockType = \"Granite\"\n",
        "sampleNumber = 12\n",
        "porosity = 0.1537\n",
        "\n",
        "# Embedding variables directly in the string\n",
        "print(f\"Sample {sampleNumber} is {rockType} with porosity {porosity}.\")\n",
        "# Output: Sample 12 is Granite with porosity 0.1537."
      ],
      "metadata": {
        "colab": {
          "base_uri": "https://localhost:8080/"
        },
        "id": "xrpa6ug3rhwl",
        "outputId": "a4a7794d-e37c-4dc8-e632-411a311c7351"
      },
      "execution_count": 1,
      "outputs": [
        {
          "output_type": "stream",
          "name": "stdout",
          "text": [
            "Sample 12 is Granite with porosity 0.1537.\n"
          ]
        }
      ]
    },
    {
      "cell_type": "code",
      "source": [
        "dxValue = 0.1\n",
        "fPrimeApprox = 1.90001234\n",
        "errorValue = 0.09998765\n",
        "\n",
        "print(f\"For dx = {dxValue:.2f}: Approximation = {fPrimeApprox:.4f}, Error = {errorValue:.3e}\")\n",
        "# Expected Output:\n",
        "# For dx = 0.10: Approximation = 1.9000, Error = 9.999e-02"
      ],
      "metadata": {
        "colab": {
          "base_uri": "https://localhost:8080/"
        },
        "id": "eMtSZZMrrjiQ",
        "outputId": "0b378cec-7a50-426a-854b-8cd9b321ba23"
      },
      "execution_count": 2,
      "outputs": [
        {
          "output_type": "stream",
          "name": "stdout",
          "text": [
            "For dx = 0.10: Approximation = 1.9000, Error = 9.999e-02\n"
          ]
        }
      ]
    },
    {
      "cell_type": "markdown",
      "source": [
        "### 4.4.2 Example 1: Approximating the Derivative of $f(x) = x^2$\n",
        "Let's approximate the derivative of $f(x) = x^2$ at $x_0 = 1.0$. The exact derivative is $f'(1.0) = 2.0$."
      ],
      "metadata": {
        "id": "3ctqlINPrlT9"
      }
    },
    {
      "cell_type": "code",
      "source": [
        "import numpy as np\n",
        "# import matplotlib.pyplot as plt # Not strictly needed for this specific listing\n",
        "\n",
        "# Define the function and its exact derivative\n",
        "def functionXSquared(x):\n",
        "    return x**2\n",
        "\n",
        "def derivativeXSquared(x):\n",
        "    return 2*x\n",
        "\n",
        "# Point at which to evaluate the derivative\n",
        "x0 = 1.0\n",
        "# Step size\n",
        "dxValue = 0.1\n",
        "\n",
        "# Exact derivative value at x0\n",
        "fPrimeExact = derivativeXSquared(x0)\n",
        "print(f\"Function: f(x) = x^2\")\n",
        "print(f\"Exact derivative f'(x) = 2x\")\n",
        "print(f\"Exact derivative at x = {x0}: {fPrimeExact:.4f}\\n\")\n",
        "\n",
        "# Calculate function values needed for differences\n",
        "fAtX0 = functionXSquared(x0)\n",
        "fAtX0PlusDx = functionXSquared(x0 + dxValue)\n",
        "fAtX0MinusDx = functionXSquared(x0 - dxValue)\n",
        "\n",
        "# Forward Difference Approximation\n",
        "fPrimeForward = (fAtX0PlusDx - fAtX0) / dxValue\n",
        "errorForward = abs(fPrimeForward - fPrimeExact)\n",
        "print(f\"Forward Difference (dx = {dxValue:.2f}):\")\n",
        "print(f\"  Approximation = {fPrimeForward:.4f}, Absolute Error = {errorForward:.4e}\")\n",
        "\n",
        "# Backward Difference Approximation\n",
        "fPrimeBackward = (fAtX0 - fAtX0MinusDx) / dxValue\n",
        "errorBackward = abs(fPrimeBackward - fPrimeExact)\n",
        "print(f\"\\nBackward Difference (dx = {dxValue:.2f}):\")\n",
        "print(f\"  Approximation = {fPrimeBackward:.4f}, Absolute Error = {errorBackward:.4e}\")\n",
        "\n",
        "# Central Difference Approximation\n",
        "fPrimeCentral = (fAtX0PlusDx - fAtX0MinusDx) / (2 * dxValue)\n",
        "errorCentral = abs(fPrimeCentral - fPrimeExact)\n",
        "print(f\"\\nCentral Difference (dx = {dxValue:.2f}):\")\n",
        "print(f\"  Approximation = {fPrimeCentral:.4f}, Absolute Error = {errorCentral:.4e}\")"
      ],
      "metadata": {
        "colab": {
          "base_uri": "https://localhost:8080/"
        },
        "id": "mRjdqXK5roT9",
        "outputId": "e1d2a897-bd20-4b55-aff1-6d729d2ac896"
      },
      "execution_count": 3,
      "outputs": [
        {
          "output_type": "stream",
          "name": "stdout",
          "text": [
            "Function: f(x) = x^2\n",
            "Exact derivative f'(x) = 2x\n",
            "Exact derivative at x = 1.0: 2.0000\n",
            "\n",
            "Forward Difference (dx = 0.10):\n",
            "  Approximation = 2.1000, Absolute Error = 1.0000e-01\n",
            "\n",
            "Backward Difference (dx = 0.10):\n",
            "  Approximation = 1.9000, Absolute Error = 1.0000e-01\n",
            "\n",
            "Central Difference (dx = 0.10):\n",
            "  Approximation = 2.0000, Absolute Error = 4.4409e-16\n"
          ]
        }
      ]
    },
    {
      "cell_type": "markdown",
      "source": [
        "The results are summarized in the table below. The exceptional accuracy of the central difference for $f(x)=x^2$ is because its leading error term depends on the third derivative, $f'''(x)$, which is zero for a quadratic function.\n",
        "\n",
        "| Difference Scheme   | Approximation | Absolute Error        |\n",
        "|---------------------|---------------|-----------------------|\n",
        "| Forward Difference  | 2.1000        | $1.00 \\times 10^{-1}$ |\n",
        "| Backward Difference | 1.9000        | $1.00 \\times 10^{-1}$ |\n",
        "| Central Difference  | 2.0000        | $\\approx 0$ (< 10⁻¹⁵) |\n",
        "\n",
        "*Table: Finite difference approximations for the derivative of $f(x)=x^2$ at $x_0=1.0$ with $\\Delta x = 0.1$.*"
      ],
      "metadata": {
        "id": "cj4mnhR7rqVb"
      }
    },
    {
      "cell_type": "markdown",
      "source": [
        "### 4.4.3 Example 2: Approximating the Derivative of $f(x) = \\sin(x)$\n",
        "Now, let's consider $f(x) = \\sin(x)$. Its analytical derivative is $f'(x) = \\cos(x)$. We will approximate the derivative at $x_0 = \\pi/4$."
      ],
      "metadata": {
        "id": "8cxJP4GrrsGk"
      }
    },
    {
      "cell_type": "code",
      "source": [
        "import numpy as np\n",
        "# import matplotlib.pyplot as plt\n",
        "\n",
        "# Define the function and its exact derivative\n",
        "def functionSinX(x):\n",
        "    return np.sin(x)\n",
        "\n",
        "def derivativeSinX(x):\n",
        "    return np.cos(x)\n",
        "\n",
        "# Point at which to evaluate the derivative\n",
        "x0Sin = np.pi / 4.0\n",
        "# Step size\n",
        "dxSin = 0.1\n",
        "\n",
        "# Exact derivative value at x0Sin\n",
        "fPrimeExactSin = derivativeSinX(x0Sin)\n",
        "print(f\"\\nFunction: f(x) = sin(x)\")\n",
        "print(f\"Exact derivative f'(x) = cos(x)\")\n",
        "print(f\"Exact derivative at x = {x0Sin:.4f} (pi/4): {fPrimeExactSin:.6f}\\n\")\n",
        "\n",
        "# Calculate function values\n",
        "fAtX0Sin = functionSinX(x0Sin)\n",
        "fAtX0PlusDxSin = functionSinX(x0Sin + dxSin)\n",
        "fAtX0MinusDxSin = functionSinX(x0Sin - dxSin)\n",
        "\n",
        "# Forward Difference\n",
        "fPrimeForwardSin = (fAtX0PlusDxSin - fAtX0Sin) / dxSin\n",
        "errorForwardSin = abs(fPrimeForwardSin - fPrimeExactSin)\n",
        "print(f\"Forward Difference (dx = {dxSin:.2f}):\")\n",
        "print(f\"  Approximation = {fPrimeForwardSin:.6f}, Absolute Error = {errorForwardSin:.4e}\")\n",
        "\n",
        "# Backward Difference\n",
        "fPrimeBackwardSin = (fAtX0Sin - fAtX0MinusDxSin) / dxSin\n",
        "errorBackwardSin = abs(fPrimeBackwardSin - fPrimeExactSin)\n",
        "print(f\"\\nBackward Difference (dx = {dxSin:.2f}):\")\n",
        "print(f\"  Approximation = {fPrimeBackwardSin:.6f}, Absolute Error = {errorBackwardSin:.4e}\")\n",
        "\n",
        "# Central Difference\n",
        "fPrimeCentralSin = (fAtX0PlusDxSin - fAtX0MinusDxSin) / (2 * dxSin)\n",
        "errorCentralSin = abs(fPrimeCentralSin - fPrimeExactSin)\n",
        "print(f\"\\nCentral Difference (dx = {dxSin:.2f}):\")\n",
        "print(f\"  Approximation = {fPrimeCentralSin:.6f}, Absolute Error = {errorCentralSin:.4e}\")"
      ],
      "metadata": {
        "colab": {
          "base_uri": "https://localhost:8080/"
        },
        "id": "vSRrro_rruGM",
        "outputId": "c1ca5e23-fae0-4701-dfbf-6f3aa41e92cf"
      },
      "execution_count": 4,
      "outputs": [
        {
          "output_type": "stream",
          "name": "stdout",
          "text": [
            "\n",
            "Function: f(x) = sin(x)\n",
            "Exact derivative f'(x) = cos(x)\n",
            "Exact derivative at x = 0.7854 (pi/4): 0.707107\n",
            "\n",
            "Forward Difference (dx = 0.10):\n",
            "  Approximation = 0.670603, Absolute Error = 3.6504e-02\n",
            "\n",
            "Backward Difference (dx = 0.10):\n",
            "  Approximation = 0.741255, Absolute Error = 3.4148e-02\n",
            "\n",
            "Central Difference (dx = 0.10):\n",
            "  Approximation = 0.705929, Absolute Error = 1.1779e-03\n"
          ]
        }
      ]
    },
    {
      "cell_type": "markdown",
      "source": [
        "This more general example shows that while the central difference error is no longer zero (since $f'''(\\sin x)$ is non-zero), it is still an order of magnitude more accurate than the first-order schemes.\n",
        "\n",
        "| Difference Scheme   | Approximation | Absolute Error        |\n",
        "|---------------------|---------------|-----------------------|\n",
        "| Forward Difference  | 0.6706        | $3.65 \\times 10^{-2}$ |\n",
        "| Backward Difference | 0.7413        | $3.41 \\times 10^{-2}$ |\n",
        "| Central Difference  | 0.7059        | $1.18 \\times 10^{-3}$ |\n",
        "\n",
        "*Table: Finite difference approximations for the derivative of $f(x)=\\sin(x)$ at $x_0=\\pi/4$ with $\\Delta x = 0.1$.*"
      ],
      "metadata": {
        "id": "wP1_OheQrv0t"
      }
    },
    {
      "cell_type": "markdown",
      "source": [
        "### 4.4.4 Numerically Verifying the Order of Accuracy\n",
        "\n",
        "If the error $E$ is proportional to $(\\Delta x)^p$, then a plot of $\\log(E)$ versus $\\log(\\Delta x)$ should be a straight line with slope $p$. This \"log-log plot\" is a standard way to verify the order of accuracy ($p$) of a numerical method. A slope of 1 indicates first-order accuracy, while a slope of 2 indicates second-order accuracy."
      ],
      "metadata": {
        "id": "zpusLtJerxiv"
      }
    },
    {
      "cell_type": "code",
      "source": [
        "import numpy as np\n",
        "import matplotlib.pyplot as plt\n",
        "\n",
        "# Function and its derivative (defined in a previous cell)\n",
        "# def functionSinX(x): return np.sin(x)\n",
        "# def derivativeSinX(x): return np.cos(x)\n",
        "\n",
        "x0Order = np.pi / 4.0\n",
        "fPrimeExactOrder = derivativeSinX(x0Order)\n",
        "\n",
        "# Range of dx values, decreasing logarithmically\n",
        "# Example: 10 points from 10^-1 down to 10^-4\n",
        "dxValues = np.logspace(-1, -4, 10)\n",
        "\n",
        "errorsForwardOrder = []\n",
        "errorsBackwardOrder = []\n",
        "errorsCentralOrder = []\n",
        "\n",
        "for dxCurr in dxValues:\n",
        "    f0 = functionSinX(x0Order)\n",
        "    fPlus = functionSinX(x0Order + dxCurr)\n",
        "    fMinus = functionSinX(x0Order - dxCurr)\n",
        "\n",
        "    # Forward difference error\n",
        "    approxFwd = (fPlus - f0) / dxCurr\n",
        "    errorsForwardOrder.append(abs(approxFwd - fPrimeExactOrder))\n",
        "\n",
        "    # Backward difference error\n",
        "    approxBwd = (f0 - fMinus) / dxCurr\n",
        "    errorsBackwardOrder.append(abs(approxBwd - fPrimeExactOrder))\n",
        "\n",
        "    # Central difference error\n",
        "    approxCtrl = (fPlus - fMinus) / (2 * dxCurr)\n",
        "    errorsCentralOrder.append(abs(approxCtrl - fPrimeExactOrder))\n",
        "\n",
        "# Convert lists to NumPy arrays for plotting and calculations\n",
        "errorsForwardOrder = np.array(errorsForwardOrder)\n",
        "errorsBackwardOrder = np.array(errorsBackwardOrder)\n",
        "errorsCentralOrder = np.array(errorsCentralOrder)\n",
        "\n",
        "# Create the log-log plot\n",
        "plt.figure(figsize=(9, 7))\n",
        "plt.loglog(dxValues, errorsForwardOrder, 'o-', label='Forward Diff. (Expected Order 1)')\n",
        "plt.loglog(dxValues, errorsBackwardOrder, 's--', label='Backward Diff. (Expected Order 1)')\n",
        "plt.loglog(dxValues, errorsCentralOrder, '^-', label='Central Diff. (Expected Order 2)')\n",
        "\n",
        "# Add reference lines for slopes to guide the eye\n",
        "# For Order 1: Error = C * dx^1. Choose C such that C*dxValues[0] approx errors[0]\n",
        "if len(dxValues) > 0 and len(errorsForwardOrder) > 0:\n",
        "    C1 = errorsForwardOrder[0] / dxValues[0]\n",
        "    plt.loglog(dxValues, C1 * dxValues**1, 'k:', lw=1.5, label='Reference Slope 1')\n",
        "# For Order 2: Error = C * dx^2\n",
        "if len(dxValues) > 0 and len(errorsCentralOrder) > 0:\n",
        "    C2 = errorsCentralOrder[0] / (dxValues[0]**2)\n",
        "    plt.loglog(dxValues, C2 * dxValues**2, 'k--', lw=1.5, label='Reference Slope 2')\n",
        "\n",
        "plt.xlabel('$\\Delta x$ (Step Size)')\n",
        "plt.ylabel('Absolute Error')\n",
        "plt.title('Log-Log Plot: Error vs. $\\Delta x$ for Approximating $f\\'(\\sin(x))$ at $x=\\pi/4$')\n",
        "plt.legend(loc='best')\n",
        "plt.grid(True, which=\"both\", ls=\"-\", alpha=0.7) # Grid for both major and minor ticks\n",
        "# plt.gca().invert_xaxis() # Optional: if you prefer dx decreasing to the right\n",
        "plt.show()"
      ],
      "metadata": {
        "colab": {
          "base_uri": "https://localhost:8080/",
          "height": 652
        },
        "id": "D6Q_Hv1Yr0E_",
        "outputId": "ed6f748a-70a0-489f-ddd4-4f350985118b"
      },
      "execution_count": 5,
      "outputs": [
        {
          "output_type": "display_data",
          "data": {
            "text/plain": [
              "<Figure size 900x700 with 1 Axes>"
            ],
            "image/png": "[encoded data removed]"
          },
          "metadata": {}
        }
      ]
    },
    {
      "cell_type": "markdown",
      "source": [
        "The resulting log-log plot clearly shows that the errors for the forward and backward schemes align with a line of slope 1, while the errors for the central difference scheme align with a steeper line of slope 2, numerically confirming their theoretical orders of accuracy."
      ],
      "metadata": {
        "id": "_UFP9SsRr1kS"
      }
    },
    {
      "cell_type": "markdown",
      "source": [
        "<div class=\"alert alert-block alert-info\">\n",
        "    <b>Concept Check!</b>\n",
        "    <br>\n",
        "    On a log-log plot of error versus step size, Scheme A shows a slope of 1, while Scheme B shows a slope of 2. If your goal is to achieve a very small error, which scheme is more efficient (i.e., requires a larger $\\Delta x$ for the same error)? Why?\n",
        "</div>"
      ],
      "metadata": {
        "id": "pooWJz89r3MN"
      }
    },
    {
      "cell_type": "markdown",
      "source": [
        "## Chapter Summary and Exercises\n",
        "This chapter introduced the Finite Difference Method for approximating spatial derivatives, a fundamental skill for solving PDEs. We derived forward, backward, and central difference schemes, analyzed their accuracy using Taylor series, and numerically verified their order of accuracy in Python."
      ],
      "metadata": {
        "id": "vGEGqMrCsKEB"
      }
    },
    {
      "cell_type": "markdown",
      "source": [
        "## Chapter 4 Exercises\n",
        "\n",
        "Apply your understanding of the concepts and methods discussed in this chapter to solve the following problems."
      ],
      "metadata": {
        "id": "xuMMqqjVsVtl"
      }
    },
    {
      "cell_type": "markdown",
      "source": [
        "### E4.1: Derivative of a Cubic Function\n",
        "\n",
        "Consider the function $f(x) = x^3 - 2x^2 + 5$.\n",
        "\n",
        "**Tasks:**\n",
        "1.  **Analytical Derivative:** Find the analytical (exact) first derivative, $f'(x)$.\n",
        "2.  **Implementation:** Write a Python script that calculates the forward, backward, and central difference approximations for $f'(x)$ at the point $x_0 = 2.0$.\n",
        "3.  **Error Calculation:** Use a step size of $\\Delta x = 0.05$. Calculate the absolute error for each of the three schemes by comparing the numerical approximation to the exact value of the derivative at $x_0 = 2.0$.\n",
        "4.  **Print Results:** Print the results in a clear, formatted way, similar to the examples in the chapter."
      ],
      "metadata": {
        "id": "6liDNAsTsXx3"
      }
    },
    {
      "cell_type": "code",
      "source": [
        "# Your code for Exercise 4.1 here\n",
        "import numpy as np\n",
        "\n",
        "# 1. Define the function and its analytical derivative\n",
        "def cubic_function(x):\n",
        "    # Your code here\n",
        "    return 0\n",
        "\n",
        "def derivative_cubic_function(x):\n",
        "    # Your code here\n",
        "    return 0\n",
        "\n",
        "# 2. Setup parameters\n",
        "x0 = 2.0\n",
        "dx = 0.05\n",
        "\n",
        "# 3. Calculate exact value\n",
        "f_prime_exact = derivative_cubic_function(x0)\n",
        "print(f\"Function: f(x) = x^3 - 2x^2 + 5\")\n",
        "print(f\"Exact derivative at x = {x0}: {f_prime_exact}\\n\")\n",
        "\n",
        "# Calculate function values at required points\n",
        "# ...\n",
        "\n",
        "# 4. Calculate and print approximations and errors\n",
        "# Forward Difference\n",
        "# ...\n",
        "\n",
        "# Backward Difference\n",
        "# ...\n",
        "\n",
        "# Central Difference\n",
        "# ..."
      ],
      "metadata": {
        "id": "-yIYurLGsaH5"
      },
      "execution_count": null,
      "outputs": []
    },
    {
      "cell_type": "markdown",
      "source": [
        "### E4.2: Impact of the Evaluation Point\n",
        "\n",
        "Using the same function from the previous exercise, $f(x) = x^3 - 2x^2 + 5$, now approximate the derivative at a different point, $x_0 = 2/3$. The exact derivative at this point is $f'(2/3) = 3(2/3)^2 - 4(2/3) = 4/3 - 8/3 = -4/3$.\n",
        "\n",
        "**Tasks:**\n",
        "1.  **Recalculate:** Modify your script from E4.1 to calculate the three finite difference approximations and their absolute errors at this new point, $x_0 = 2/3$, using the same step size $\\Delta x = 0.05$.\n",
        "2.  **Compare and Discuss:** Compare the absolute errors you calculated at $x_0 = 2/3$ with those you calculated at $x_0 = 2.0$. Are they the same? In a markdown cell, briefly explain why the errors might be different, even though you are using the same function and the same $\\Delta x$. (Hint: Look at the leading error term for each scheme. What other part of the function, besides $\\Delta x$, does the error depend on?)"
      ],
      "metadata": {
        "id": "lLquNg2ksb4Z"
      }
    },
    {
      "cell_type": "code",
      "source": [
        "# Your code for Exercise 4.2 here\n",
        "import numpy as np\n",
        "\n",
        "# (You can reuse the functions from the previous exercise)\n",
        "\n",
        "# 1. Setup new parameters\n",
        "x0_new = 2.0 / 3.0\n",
        "dx_new = 0.05\n",
        "\n",
        "# Calculate exact value at the new point\n",
        "f_prime_exact_new = derivative_cubic_function(x0_new)\n",
        "print(f\"Exact derivative at x = {x0_new:.4f}: {f_prime_exact_new:.4f}\\n\")\n",
        "\n",
        "# ... rest of your code to calculate and print approximations and errors ..."
      ],
      "metadata": {
        "id": "BPMZlgdHseCZ"
      },
      "execution_count": null,
      "outputs": []
    },
    {
      "cell_type": "markdown",
      "source": [
        "*Your discussion for E4.2, Task 2 here. Double-click to edit.*\n",
        "\n",
        "..."
      ],
      "metadata": {
        "id": "wGHuaTApsjAq"
      }
    },
    {
      "cell_type": "markdown",
      "source": [
        "### E4.3: Numerical Verification of Order for a Different Function\n",
        "\n",
        "Let's numerically verify the order of accuracy for the finite difference schemes using a new function, $f(x) = e^{-x} \\cos(x)$. The analytical derivative is $f'(x) = -e^{-x}(\\cos(x) + \\sin(x))$.\n",
        "\n",
        "**Tasks:**\n",
        "1.  **Implementation:** Write a Python script that calculates the absolute error of the forward, backward, and central difference approximations for $f'(x)$ at $x_0 = 0$.\n",
        "2.  **Vary Step Size:** Calculate these errors for a range of $\\Delta x$ values (e.g., using `np.logspace(-1, -5, 15)` to get 15 steps between $10^{-1}$ and $10^{-5}$).\n",
        "3.  **Log-Log Plot:** Create a log-log plot of the absolute error versus $\\Delta x$ for all three schemes.\n",
        "4.  **Analyze:** Add reference lines with slopes of 1 and 2 to your plot. Confirm that the numerical results match the theoretical orders of accuracy for each scheme."
      ],
      "metadata": {
        "id": "BR34HahHslCl"
      }
    },
    {
      "cell_type": "code",
      "source": [
        "# Your code for Exercise 4.3 here\n",
        "import numpy as np\n",
        "import matplotlib.pyplot as plt\n",
        "\n",
        "# 1. Define the new function and its derivative\n",
        "def exp_cos_func(x):\n",
        "    return np.exp(-x) * np.cos(x)\n",
        "\n",
        "def derivative_exp_cos_func(x):\n",
        "    return -np.exp(-x) * (np.cos(x) + np.sin(x))\n",
        "\n",
        "# Setup parameters\n",
        "x0_verify = 0.0\n",
        "f_prime_exact_verify = derivative_exp_cos_func(x0_verify)\n",
        "\n",
        "# 2. Create a range of dx values\n",
        "dx_values_verify = np.logspace(-1, -5, 15)\n",
        "errors_fwd = []\n",
        "errors_bwd = []\n",
        "errors_ctrl = []\n",
        "\n",
        "# Loop through dx values and calculate errors\n",
        "for dx in dx_values_verify:\n",
        "    # ... your code to calculate approximations and errors ...\n",
        "    pass # remove this line\n",
        "\n",
        "# 3. Create the log-log plot\n",
        "plt.figure(figsize=(10, 8))\n",
        "# ... your plotting code here ...\n",
        "\n",
        "# 4. Add reference lines\n",
        "# ... your code to add reference lines ...\n",
        "\n",
        "plt.xlabel(\"Step Size (dx)\")\n",
        "plt.ylabel(\"Absolute Error\")\n",
        "plt.title(\"Order of Accuracy for $f(x) = e^{-x} \\cos(x)$ at $x_0=0$\")\n",
        "plt.legend()\n",
        "plt.grid(True, which=\"both\", ls=\"--\")\n",
        "plt.show()"
      ],
      "metadata": {
        "id": "ts9k7j2CsnA5"
      },
      "execution_count": null,
      "outputs": []
    },
    {
      "cell_type": "markdown",
      "source": [
        "### E4.4: Approximating the Second Derivative\n",
        "\n",
        "The same Taylor series approach can be used to derive approximations for higher-order derivatives. To approximate the second derivative, $\\frac{d^2q}{dx^2}$, at a point $x_i$, we can add the Taylor series expansions for $q(x_{i+1})$ and $q(x_{i-1})$.\n",
        "\n",
        "Starting with:\n",
        "$$ q_{i+1} = q_i + \\Delta x q'_i + \\frac{\\Delta x^2}{2} q''_i + \\frac{\\Delta x^3}{6} q'''_i + \\mathcal{O}(\\Delta x^4) $$\n",
        "$$ q_{i-1} = q_i - \\Delta x q'_i + \\frac{\\Delta x^2}{2} q''_i - \\frac{\\Delta x^3}{6} q'''_i + \\mathcal{O}(\\Delta x^4) $$\n",
        "\n",
        "**Tasks:**\n",
        "1.  **Derivation:** Add these two equations together and rearrange the result to solve for $q''_i = \\left(\\frac{d^2q}{dx^2}\\right)_{x_i}$. This will give you the standard central difference formula for the second derivative.\n",
        "2.  **Truncation Error:** What is the leading term of the truncation error for your derived formula? What is the order of accuracy of this scheme?\n",
        "3.  **Implementation:** Apply your formula to find the second derivative of $f(x) = \\sin(2x)$ at $x_0 = \\pi/4$. The exact second derivative is $f''(x) = -4\\sin(2x)$, so $f''(\\pi/4) = -4\\sin(\\pi/2) = -4$. Use $\\Delta x = 0.1$ and calculate the absolute error of your approximation."
      ],
      "metadata": {
        "id": "YUgvY97jso3g"
      }
    },
    {
      "cell_type": "markdown",
      "source": [
        "*Your derivation for E4.4, Task 1 & 2 here. Double-click to edit.*\n",
        "\n",
        "**1. Derivation:**\n",
        "Adding the two Taylor series gives:\n",
        "$$ q_{i+1} + q_{i-1} = 2q_i + \\Delta x^2 q''_i + \\mathcal{O}(\\Delta x^4) $$\n",
        "Rearranging for $q''_i$:\n",
        "$$ ... $$\n",
        "\n",
        "**2. Truncation Error:**\n",
        "The leading error term is proportional to ... , so the method is ... -order accurate."
      ],
      "metadata": {
        "id": "1NeiXiOisr1u"
      }
    },
    {
      "cell_type": "code",
      "source": [
        "# Your code for Exercise 4.4, Task 3 here\n",
        "import numpy as np\n",
        "\n",
        "def f_sin2x(x):\n",
        "    return np.sin(2 * x)\n",
        "\n",
        "def f_dd_sin2x(x): # second derivative\n",
        "    return -4 * np.sin(2 * x)\n",
        "\n",
        "# Parameters\n",
        "x0_dd = np.pi / 4.0\n",
        "dx_dd = 0.1\n",
        "\n",
        "# Exact value\n",
        "exact_dd = f_dd_sin2x(x0_dd)\n",
        "print(f\"Exact second derivative at x={x0_dd:.4f} is {exact_dd:.4f}\\n\")\n",
        "\n",
        "# Calculate required function values\n",
        "# ...\n",
        "\n",
        "# Apply the central difference formula for the second derivative\n",
        "# ...\n",
        "\n",
        "# Print the approximation and the absolute error\n",
        "# ..."
      ],
      "metadata": {
        "id": "Nl2LKIdEst7y"
      },
      "execution_count": null,
      "outputs": []
    }
  ]
}