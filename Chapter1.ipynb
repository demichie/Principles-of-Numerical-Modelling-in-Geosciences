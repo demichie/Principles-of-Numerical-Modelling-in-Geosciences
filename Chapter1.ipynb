{
  "nbformat": 4,
  "nbformat_minor": 0,
  "metadata": {
    "colab": {
      "provenance": [],
      "authorship_tag": "ABX9TyPyVS+4D0banUEEuI1rABcK",
      "include_colab_link": true
    },
    "kernelspec": {
      "name": "python3",
      "display_name": "Python 3"
    },
    "language_info": {
      "name": "python"
    }
  },
  "cells": [
    {
      "cell_type": "markdown",
      "metadata": {
        "id": "view-in-github",
        "colab_type": "text"
      },
      "source": [
        "<a href=\"https://colab.research.google.com/github/demichie/Principles-of-Numerical-Modelling-in-Geosciences/blob/main/Chapter1.ipynb\" target=\"_parent\"><img src=\"https://colab.research.google.com/assets/colab-badge.svg\" alt=\"Open In Colab\"/></a>"
      ]
    },
    {
      "cell_type": "markdown",
      "source": [
        "# Chapter 1: Introduction - Bridging Geoscience and Computation\n",
        "\n",
        "This notebook serves as the companion to Chapter 1 of the course notes on \"Principles of Numerical Modelling in Geosciences.\" It mirrors the chapter's content, setting the stage for our journey into the world of computational modelling. As this is an introductory chapter, it is primarily text-based, but it lays the conceptual groundwork for the Python programming and numerical methods we will explore in subsequent chapters."
      ],
      "metadata": {
        "id": "RioCJH20DHQf"
      }
    },
    {
      "cell_type": "markdown",
      "source": [
        "## 1.1 The Dynamic Earth and the Language of Mathematics\n",
        "\n",
        "The Earth is a profoundly dynamic system, characterized by a multitude of interacting processes occurring across vast scales of space and time. From the slow creep of tectonic plates and the convective overturn of the mantle to the rapid cooling of a lava flow, the infiltration of rainwater into soil, the dispersion of volcanic ash in the atmosphere, or the decay of radioactive isotopes within rocks, Earth scientists constantly seek to understand, quantify, and predict these diverse phenomena.\n",
        "\n",
        "At their core, many of these processes can be described by fundamental physical laws – notably the conservation of mass, momentum, and energy. When these governing laws are expressed in the precise language of mathematics, they often take the form of **differential equations**. Simply put, a differential equation is a statement that links the rate at which a quantity changes to the value of the quantity itself, or to other related quantities. For instance, consider the population of a particular species of plankton in the ocean: the rate at which this population grows or shrinks might depend directly on how many plankton individuals are currently present (more individuals can reproduce more, but also consume resources faster or attract more predators). Similarly, the rate at which a hot rock body cools depends on how much hotter it currently is compared to its surroundings. These differential equations, therefore, capture the rates of change and interdependencies that define how Earth systems evolve.\n",
        "\n",
        "We primarily encounter two main classes of differential equations in this context:\n",
        "*   **Ordinary Differential Equations (ODEs)** describe systems where the quantities of interest change with respect to a *single* independent variable. Most commonly in our studies, this variable is time, $t$, leading to solutions of the form $u(t)$. An example is the cooling of a small, well-mixed magma body, where its temperature is assumed to be uniform throughout and changes only with time. In some simplified steady-state scenarios, an ODE might also describe variation along a single spatial dimension.\n",
        "*   **Partial Differential Equations (PDEs)** become essential when the *quantities of interest* vary with respect to *multiple* independent variables simultaneously. Common examples include variations over time $t$ *and* one or more spatial dimensions (e.g., $x$; or $x$ and $y$; or $x, y,$ and $z$). Thus, a quantity like temperature might be described as $T(x,t)$, or concentration as $c(x,y,t)$. Such quantities, which have a value at every point in a region of space and at every moment in time, can be thought of as *distributions* or *fields* that evolves in time and space. The temperature distribution within a cooling lava dike as it solidifies, or the changing pattern of a pollutant concentration as it spreads through groundwater, are classic examples of phenomena whose description typically requires PDEs."
      ],
      "metadata": {
        "id": "s5_rIZMhDNdh"
      }
    },
    {
      "cell_type": "markdown",
      "source": [
        "<div class=\"alert alert-block alert-info\">\n",
        "    <b>Concept Check!</b>\n",
        "    <br>\n",
        "    <ul>\n",
        "        <li>Why are differential equations so prevalent in geosciences?</li>\n",
        "        <li>Try to give two examples from Earth systems where a rate of change naturally leads to a differential equation.</li>\n",
        "    </ul>\n",
        "</div>"
      ],
      "metadata": {
        "id": "c5KhfAO3DRhx"
      }
    },
    {
      "cell_type": "markdown",
      "source": [
        "## 1.2 Why Numerical Modelling? The Limits of Analytical Solutions\n",
        "\n",
        "While some idealized differential equations can be solved analytically, yielding exact, closed-form mathematical expressions for the solution (as will be seen for simple radioactive decay or Newton's cooling in the early parts of this volume), most real-world geoscience problems present complexities that render analytical approaches intractable. Factors such as:\n",
        "*   Complex or irregular geometries of the domain (e.g., a fractured aquifer system, a tortuous volcanic conduit).\n",
        "*   Heterogeneous material properties that vary in space (e.g., the permeability of different rock layers, the thermal conductivity of compositionally diverse magma).\n",
        "*   Nonlinear relationships between variables and their derivatives (e.g., hydraulic conductivity in unsaturated soils strongly depending on water content, or viscosity of magma depending on temperature and crystal content).\n",
        "*   The coupling of multiple physical processes (e.g., fluid flow, chemical reactions, and heat transfer occurring simultaneously).\n",
        "\n",
        "make it impossible to find an exact formula for the solution.\n",
        "\n",
        "This is where **numerical modelling** emerges as an indispensable tool for the modern Earth scientist. Numerical methods provide a pathway to obtain *approximate* solutions to these complex differential equations. By discretizing the continuous problem into a finite set of algebraic equations that can be solved on a computer, we can:\n",
        "*   Simulate processes for which no analytical solution is known.\n",
        "*   Explore the behavior of complex Earth systems under a wide range of conditions, allowing for \"what if\" scenario analysis.\n",
        "*   Test hypotheses about underlying physical mechanisms by comparing model outputs with observations.\n",
        "*   Gain deeper, quantitative insights into the dynamics of geological and environmental processes.\n",
        "*   Make quantitative predictions, which can be crucial for applications such as natural hazard assessment (e.g., forecasting volcanic eruption plumes, landslide runout) or subsurface resource management (e.g., optimizing oil and gas recovery from reservoirs, predicting reservoir behavior under production)."
      ],
      "metadata": {
        "id": "mHhMAwNkDT9h"
      }
    },
    {
      "cell_type": "markdown",
      "source": [
        "<div class=\"alert alert-block alert-info\">\n",
        "    <b>Concept Check!</b>\n",
        "    <br>\n",
        "    <ul>\n",
        "        <li>What makes a numerical model different from an analytical solution?</li>\n",
        "        <li>When might an analytical solution become practically impossible?</li>\n",
        "    </ul>\n",
        "</div>"
      ],
      "metadata": {
        "id": "1ga3aAFvDVyt"
      }
    },
    {
      "cell_type": "markdown",
      "source": [
        "## 1.3 Philosophy and Objectives of this Volume\n",
        "\n",
        "This volume aims to provide graduate students and researchers in Earth Sciences with a foundational understanding of the principles and practice of numerical modelling of systems described by differential equations. The focus is not merely on presenting a collection of numerical recipes, but rather on building an intuition for *why* certain methods work, their inherent assumptions and theoretical underpinnings, their practical limitations, and how to critically approach the task of simulation and interpret its results. We believe that a solid grasp of these fundamentals is essential for conducting robust and meaningful numerical research in the geosciences.\n",
        "\n",
        "Our journey throughout this volume will cover:\n",
        "1.  A review of fundamental concepts of **Ordinary and Partial Differential Equations** most relevant to geoscience applications.\n",
        "2.  An introduction to basic **Python programming for scientific computation**, leveraging powerful libraries such as NumPy for numerical operations and Matplotlib for visualization.\n",
        "3.  The core concepts of **numerical discretization**, with a primary focus on the versatile **finite difference method** to discretize first and second order derivatives.\n",
        "4.  The development, implementation, and analysis of numerical schemes for:\n",
        "    *   Simple Ordinary Differential Equations (e.g., Explicit and Implicit Euler methods).\n",
        "    *   Challenges posed by Nonlinear ODEs, introducing root-finding techniques like the bisection method.\n",
        "    *   The 1D Diffusion (or Heat) Equation, a fundamental parabolic PDE.\n",
        "    *   The 1D Linear Advection Equation, a key hyperbolic PDE.\n",
        "5.  An exploration of crucial properties of numerical methods, including **accuracy (truncation error, order of accuracy), stability (including the Courant-Friedrichs-Lewy -- CFL -- condition), convergence, and common numerical artifacts like numerical diffusion and dispersion.**\n",
        "6.  The critical role of **initial and boundary conditions** in defining well-posed problems and obtaining physically relevant solutions.\n",
        "\n",
        "The emphasis throughout is on building both a strong conceptual understanding and practical computational skills, enabling readers to confidently approach more complex modelling tasks in their own research fields."
      ],
      "metadata": {
        "id": "S8U85ul6DX3J"
      }
    },
    {
      "cell_type": "code",
      "source": [
        "# A sneak peek at the primary tools we will use throughout this course.\n",
        "# We will cover them in detail in the next chapter.\n",
        "\n",
        "import numpy as np\n",
        "import matplotlib.pyplot as plt\n",
        "\n",
        "print(\"Ready to model the Earth with Python, NumPy, and Matplotlib!\")"
      ],
      "metadata": {
        "id": "XmHMfdAaDcR8"
      },
      "execution_count": null,
      "outputs": []
    },
    {
      "cell_type": "markdown",
      "source": [
        "## 1.4 Structure of this Volume\n",
        "\n",
        "This volume is structured to build knowledge incrementally, guiding the reader from fundamental concepts to practical numerical implementation. The chapters are organized as follows:\n",
        "\n",
        "**Chapter 1: Introduction -- Bridging Geoscience and Computation**\n",
        "This current chapter discusses the pivotal role of differential equations in quantifying dynamic Earth systems and outlines why numerical modelling is an indispensable tool for modern geoscientists. It also sets out the philosophy and objectives of this volume.\n",
        "\n",
        "**Chapter 2: Differential Equations in Geosciences and Python Essentials**\n",
        "The chapter delves into the nature of Ordinary and Partial Differential Equations (ODEs and PDEs) with geoscience examples. It then provides a comprehensive introduction to Python, NumPy, and Matplotlib for scientific computation.\n",
        "\n",
        "**Chapter 3: Numerical Solution of Ordinary Differential Equations**\n",
        "This chapter focuses on developing our first numerical methods for ODEs, including the Explicit and Implicit Euler schemes. Concepts of stability, accuracy, and handling nonlinearities are introduced.\n",
        "\n",
        "**Chapter 4: Approximating Spatial Derivatives -- The Finite Difference Method**\n",
        "This chapter introduces the Finite Difference Method (FDM) for approximating spatial derivatives, analyzing their accuracy through Taylor series expansions.\n",
        "\n",
        "**Chapter 5: Partial Differential Equations and the Physics of Conservation**\n",
        "This chapter lays the physical and mathematical groundwork for understanding PDEs, deriving the general scalar transport equation from fundamental conservation laws.\n",
        "\n",
        "**Chapter 6: Numerical Solution of the 1D Heat (Diffusion) Equation**\n",
        "The chapter applies previous principles to numerically solve this fundamental parabolic PDE, with a focus on implementing boundary conditions and understanding the stability of explicit schemes.\n",
        "\n",
        "**Chapter 7: Numerical Solution of the Linear Advection Equation**\n",
        "This chapter shifts focus to a fundamental hyperbolic PDE, exploring the upwind scheme and the critical Courant-Friedrichs-Lewy (CFL) stability condition.\n",
        "\n",
        "**Chapter 8: Concluding Remarks and the Path Forward in Numerical Modelling**\n",
        "This final chapter synthesizes the core lessons of the course and provides a perspective on further studies in computational geosciences."
      ],
      "metadata": {
        "id": "sgUafnTFDagB"
      }
    },
    {
      "cell_type": "markdown",
      "source": [
        "This concludes the introduction. In the next chapter, we will dive into specific examples of differential equations and set up our Python environment for scientific computing."
      ],
      "metadata": {
        "id": "M6_QxGYyDhU3"
      }
    }
  ]
}